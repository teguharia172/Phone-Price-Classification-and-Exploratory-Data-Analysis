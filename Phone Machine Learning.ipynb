{
 "cells": [
  {
   "cell_type": "code",
   "execution_count": 133,
   "metadata": {},
   "outputs": [],
   "source": [
    "import pandas as pd \n",
    "import numpy as np\n",
    "import seaborn as sns \n",
    "import matplotlib.pyplot as plt \n",
    "from sklearn.neighbors import KNeighborsClassifier\n",
    "from sklearn.linear_model import LogisticRegression\n",
    "from sklearn.svm import SVC \n",
    "from sklearn.tree import DecisionTreeClassifier\n",
    "from sklearn.ensemble import RandomForestClassifier\n",
    "from sklearn.model_selection import train_test_split, RandomizedSearchCV, GridSearchCV\n",
    "from sklearn.metrics import confusion_matrix, f1_score, recall_score,accuracy_score, precision_score, classification_report\n",
    "import warnings \n",
    "warnings.filterwarnings('ignore')\n",
    "import sidetable as stb\n",
    "from xgboost import XGBClassifier"
   ]
  },
  {
   "cell_type": "code",
   "execution_count": 7,
   "metadata": {},
   "outputs": [],
   "source": [
    "pd.set_option('max_columns',None)"
   ]
  },
  {
   "cell_type": "code",
   "execution_count": 379,
   "metadata": {},
   "outputs": [],
   "source": [
    "df = pd.read_csv('phone_cleaned1.csv')"
   ]
  },
  {
   "cell_type": "code",
   "execution_count": 380,
   "metadata": {},
   "outputs": [
    {
     "data": {
      "text/html": [
       "<div>\n",
       "<style scoped>\n",
       "    .dataframe tbody tr th:only-of-type {\n",
       "        vertical-align: middle;\n",
       "    }\n",
       "\n",
       "    .dataframe tbody tr th {\n",
       "        vertical-align: top;\n",
       "    }\n",
       "\n",
       "    .dataframe thead th {\n",
       "        text-align: right;\n",
       "    }\n",
       "</style>\n",
       "<table border=\"1\" class=\"dataframe\">\n",
       "  <thead>\n",
       "    <tr style=\"text-align: right;\">\n",
       "      <th></th>\n",
       "      <th>Unnamed: 0</th>\n",
       "      <th>battery_power</th>\n",
       "      <th>blue</th>\n",
       "      <th>clock_speed</th>\n",
       "      <th>dual_sim</th>\n",
       "      <th>fc</th>\n",
       "      <th>four_g</th>\n",
       "      <th>int_memory</th>\n",
       "      <th>m_dep</th>\n",
       "      <th>mobile_wt</th>\n",
       "      <th>n_cores</th>\n",
       "      <th>pc</th>\n",
       "      <th>px_height</th>\n",
       "      <th>px_width</th>\n",
       "      <th>ram</th>\n",
       "      <th>talk_time</th>\n",
       "      <th>three_g</th>\n",
       "      <th>touch_screen</th>\n",
       "      <th>wifi</th>\n",
       "      <th>price_range</th>\n",
       "      <th>is_fc</th>\n",
       "      <th>is_pc</th>\n",
       "      <th>screen_size</th>\n",
       "      <th>screen_quality</th>\n",
       "      <th>ram_size</th>\n",
       "      <th>speed</th>\n",
       "      <th>multicore_processor</th>\n",
       "      <th>primary_camera</th>\n",
       "      <th>front_camera</th>\n",
       "    </tr>\n",
       "  </thead>\n",
       "  <tbody>\n",
       "    <tr>\n",
       "      <th>0</th>\n",
       "      <td>0</td>\n",
       "      <td>842</td>\n",
       "      <td>0</td>\n",
       "      <td>2.2</td>\n",
       "      <td>0</td>\n",
       "      <td>1</td>\n",
       "      <td>0</td>\n",
       "      <td>7</td>\n",
       "      <td>0.6</td>\n",
       "      <td>188</td>\n",
       "      <td>2</td>\n",
       "      <td>2</td>\n",
       "      <td>786.934862</td>\n",
       "      <td>756</td>\n",
       "      <td>2549</td>\n",
       "      <td>19</td>\n",
       "      <td>0</td>\n",
       "      <td>0</td>\n",
       "      <td>1</td>\n",
       "      <td>1</td>\n",
       "      <td>1.0</td>\n",
       "      <td>1.0</td>\n",
       "      <td>4.49</td>\n",
       "      <td>HD Screen</td>\n",
       "      <td>2 to 3 GB</td>\n",
       "      <td>upto 2.5GHz</td>\n",
       "      <td>1.0</td>\n",
       "      <td>upto 4MP</td>\n",
       "      <td>upto 4MP</td>\n",
       "    </tr>\n",
       "    <tr>\n",
       "      <th>1</th>\n",
       "      <td>1</td>\n",
       "      <td>1021</td>\n",
       "      <td>1</td>\n",
       "      <td>0.5</td>\n",
       "      <td>1</td>\n",
       "      <td>0</td>\n",
       "      <td>1</td>\n",
       "      <td>53</td>\n",
       "      <td>0.7</td>\n",
       "      <td>136</td>\n",
       "      <td>3</td>\n",
       "      <td>6</td>\n",
       "      <td>905.000000</td>\n",
       "      <td>1988</td>\n",
       "      <td>2631</td>\n",
       "      <td>7</td>\n",
       "      <td>1</td>\n",
       "      <td>1</td>\n",
       "      <td>0</td>\n",
       "      <td>2</td>\n",
       "      <td>0.0</td>\n",
       "      <td>1.0</td>\n",
       "      <td>6.80</td>\n",
       "      <td>HD Screen</td>\n",
       "      <td>2 to 3 GB</td>\n",
       "      <td>upto 1GHz</td>\n",
       "      <td>1.0</td>\n",
       "      <td>upto 8MP</td>\n",
       "      <td>No Camera</td>\n",
       "    </tr>\n",
       "    <tr>\n",
       "      <th>2</th>\n",
       "      <td>2</td>\n",
       "      <td>563</td>\n",
       "      <td>1</td>\n",
       "      <td>0.5</td>\n",
       "      <td>1</td>\n",
       "      <td>2</td>\n",
       "      <td>1</td>\n",
       "      <td>41</td>\n",
       "      <td>0.9</td>\n",
       "      <td>145</td>\n",
       "      <td>5</td>\n",
       "      <td>6</td>\n",
       "      <td>1263.000000</td>\n",
       "      <td>1716</td>\n",
       "      <td>2603</td>\n",
       "      <td>9</td>\n",
       "      <td>1</td>\n",
       "      <td>1</td>\n",
       "      <td>0</td>\n",
       "      <td>2</td>\n",
       "      <td>1.0</td>\n",
       "      <td>1.0</td>\n",
       "      <td>4.40</td>\n",
       "      <td>HD Screen</td>\n",
       "      <td>2 to 3 GB</td>\n",
       "      <td>upto 1GHz</td>\n",
       "      <td>1.0</td>\n",
       "      <td>upto 8MP</td>\n",
       "      <td>upto 4MP</td>\n",
       "    </tr>\n",
       "    <tr>\n",
       "      <th>3</th>\n",
       "      <td>3</td>\n",
       "      <td>615</td>\n",
       "      <td>1</td>\n",
       "      <td>2.5</td>\n",
       "      <td>0</td>\n",
       "      <td>0</td>\n",
       "      <td>0</td>\n",
       "      <td>10</td>\n",
       "      <td>0.8</td>\n",
       "      <td>131</td>\n",
       "      <td>6</td>\n",
       "      <td>9</td>\n",
       "      <td>1216.000000</td>\n",
       "      <td>1786</td>\n",
       "      <td>2769</td>\n",
       "      <td>11</td>\n",
       "      <td>1</td>\n",
       "      <td>0</td>\n",
       "      <td>0</td>\n",
       "      <td>2</td>\n",
       "      <td>0.0</td>\n",
       "      <td>1.0</td>\n",
       "      <td>7.04</td>\n",
       "      <td>HD Screen</td>\n",
       "      <td>2 to 3 GB</td>\n",
       "      <td>upto 2.5GHz</td>\n",
       "      <td>1.0</td>\n",
       "      <td>upto 12MP</td>\n",
       "      <td>No Camera</td>\n",
       "    </tr>\n",
       "    <tr>\n",
       "      <th>4</th>\n",
       "      <td>4</td>\n",
       "      <td>1821</td>\n",
       "      <td>1</td>\n",
       "      <td>1.2</td>\n",
       "      <td>0</td>\n",
       "      <td>13</td>\n",
       "      <td>1</td>\n",
       "      <td>44</td>\n",
       "      <td>0.6</td>\n",
       "      <td>141</td>\n",
       "      <td>2</td>\n",
       "      <td>14</td>\n",
       "      <td>1208.000000</td>\n",
       "      <td>1212</td>\n",
       "      <td>1411</td>\n",
       "      <td>15</td>\n",
       "      <td>1</td>\n",
       "      <td>1</td>\n",
       "      <td>0</td>\n",
       "      <td>1</td>\n",
       "      <td>1.0</td>\n",
       "      <td>1.0</td>\n",
       "      <td>3.25</td>\n",
       "      <td>HD Screen</td>\n",
       "      <td>1 to 2 GB</td>\n",
       "      <td>upto 1.5GHz</td>\n",
       "      <td>1.0</td>\n",
       "      <td>upto 16MP</td>\n",
       "      <td>upto 16MP</td>\n",
       "    </tr>\n",
       "  </tbody>\n",
       "</table>\n",
       "</div>"
      ],
      "text/plain": [
       "   Unnamed: 0  battery_power  blue  clock_speed  dual_sim  fc  four_g  \\\n",
       "0           0            842     0          2.2         0   1       0   \n",
       "1           1           1021     1          0.5         1   0       1   \n",
       "2           2            563     1          0.5         1   2       1   \n",
       "3           3            615     1          2.5         0   0       0   \n",
       "4           4           1821     1          1.2         0  13       1   \n",
       "\n",
       "   int_memory  m_dep  mobile_wt  n_cores  pc    px_height  px_width   ram  \\\n",
       "0           7    0.6        188        2   2   786.934862       756  2549   \n",
       "1          53    0.7        136        3   6   905.000000      1988  2631   \n",
       "2          41    0.9        145        5   6  1263.000000      1716  2603   \n",
       "3          10    0.8        131        6   9  1216.000000      1786  2769   \n",
       "4          44    0.6        141        2  14  1208.000000      1212  1411   \n",
       "\n",
       "   talk_time  three_g  touch_screen  wifi  price_range  is_fc  is_pc  \\\n",
       "0         19        0             0     1            1    1.0    1.0   \n",
       "1          7        1             1     0            2    0.0    1.0   \n",
       "2          9        1             1     0            2    1.0    1.0   \n",
       "3         11        1             0     0            2    0.0    1.0   \n",
       "4         15        1             1     0            1    1.0    1.0   \n",
       "\n",
       "   screen_size screen_quality   ram_size        speed  multicore_processor  \\\n",
       "0         4.49      HD Screen  2 to 3 GB  upto 2.5GHz                  1.0   \n",
       "1         6.80      HD Screen  2 to 3 GB    upto 1GHz                  1.0   \n",
       "2         4.40      HD Screen  2 to 3 GB    upto 1GHz                  1.0   \n",
       "3         7.04      HD Screen  2 to 3 GB  upto 2.5GHz                  1.0   \n",
       "4         3.25      HD Screen  1 to 2 GB  upto 1.5GHz                  1.0   \n",
       "\n",
       "  primary_camera front_camera  \n",
       "0       upto 4MP     upto 4MP  \n",
       "1       upto 8MP    No Camera  \n",
       "2       upto 8MP     upto 4MP  \n",
       "3      upto 12MP    No Camera  \n",
       "4      upto 16MP    upto 16MP  "
      ]
     },
     "execution_count": 380,
     "metadata": {},
     "output_type": "execute_result"
    }
   ],
   "source": [
    "df.head()\n",
    "\n",
    "# since all the data has been cleaned during the eda process we're going to focus on the machine learning process"
   ]
  },
  {
   "cell_type": "markdown",
   "metadata": {},
   "source": [
    "### Feature Engineering and encoding Process\n",
    "\n",
    "#### Encoding the screen quality "
   ]
  },
  {
   "cell_type": "code",
   "execution_count": 381,
   "metadata": {},
   "outputs": [
    {
     "data": {
      "text/plain": [
       "array(['HD Screen', 'Not HD'], dtype=object)"
      ]
     },
     "execution_count": 381,
     "metadata": {},
     "output_type": "execute_result"
    }
   ],
   "source": [
    "df['screen_quality'].unique()"
   ]
  },
  {
   "cell_type": "code",
   "execution_count": 382,
   "metadata": {},
   "outputs": [
    {
     "data": {
      "text/html": [
       "<div>\n",
       "<style scoped>\n",
       "    .dataframe tbody tr th:only-of-type {\n",
       "        vertical-align: middle;\n",
       "    }\n",
       "\n",
       "    .dataframe tbody tr th {\n",
       "        vertical-align: top;\n",
       "    }\n",
       "\n",
       "    .dataframe thead th {\n",
       "        text-align: right;\n",
       "    }\n",
       "</style>\n",
       "<table border=\"1\" class=\"dataframe\">\n",
       "  <thead>\n",
       "    <tr style=\"text-align: right;\">\n",
       "      <th></th>\n",
       "      <th>Unnamed: 0</th>\n",
       "      <th>battery_power</th>\n",
       "      <th>blue</th>\n",
       "      <th>clock_speed</th>\n",
       "      <th>dual_sim</th>\n",
       "      <th>fc</th>\n",
       "      <th>four_g</th>\n",
       "      <th>int_memory</th>\n",
       "      <th>m_dep</th>\n",
       "      <th>mobile_wt</th>\n",
       "      <th>n_cores</th>\n",
       "      <th>pc</th>\n",
       "      <th>px_height</th>\n",
       "      <th>px_width</th>\n",
       "      <th>ram</th>\n",
       "      <th>talk_time</th>\n",
       "      <th>three_g</th>\n",
       "      <th>touch_screen</th>\n",
       "      <th>wifi</th>\n",
       "      <th>price_range</th>\n",
       "      <th>is_fc</th>\n",
       "      <th>is_pc</th>\n",
       "      <th>screen_size</th>\n",
       "      <th>screen_quality</th>\n",
       "      <th>ram_size</th>\n",
       "      <th>speed</th>\n",
       "      <th>multicore_processor</th>\n",
       "      <th>primary_camera</th>\n",
       "      <th>front_camera</th>\n",
       "    </tr>\n",
       "  </thead>\n",
       "  <tbody>\n",
       "    <tr>\n",
       "      <th>0</th>\n",
       "      <td>0</td>\n",
       "      <td>842</td>\n",
       "      <td>0</td>\n",
       "      <td>2.2</td>\n",
       "      <td>0</td>\n",
       "      <td>1</td>\n",
       "      <td>0</td>\n",
       "      <td>7</td>\n",
       "      <td>0.6</td>\n",
       "      <td>188</td>\n",
       "      <td>2</td>\n",
       "      <td>2</td>\n",
       "      <td>786.934862</td>\n",
       "      <td>756</td>\n",
       "      <td>2549</td>\n",
       "      <td>19</td>\n",
       "      <td>0</td>\n",
       "      <td>0</td>\n",
       "      <td>1</td>\n",
       "      <td>1</td>\n",
       "      <td>1.0</td>\n",
       "      <td>1.0</td>\n",
       "      <td>4.49</td>\n",
       "      <td>1</td>\n",
       "      <td>2 to 3 GB</td>\n",
       "      <td>upto 2.5GHz</td>\n",
       "      <td>1.0</td>\n",
       "      <td>upto 4MP</td>\n",
       "      <td>upto 4MP</td>\n",
       "    </tr>\n",
       "    <tr>\n",
       "      <th>1</th>\n",
       "      <td>1</td>\n",
       "      <td>1021</td>\n",
       "      <td>1</td>\n",
       "      <td>0.5</td>\n",
       "      <td>1</td>\n",
       "      <td>0</td>\n",
       "      <td>1</td>\n",
       "      <td>53</td>\n",
       "      <td>0.7</td>\n",
       "      <td>136</td>\n",
       "      <td>3</td>\n",
       "      <td>6</td>\n",
       "      <td>905.000000</td>\n",
       "      <td>1988</td>\n",
       "      <td>2631</td>\n",
       "      <td>7</td>\n",
       "      <td>1</td>\n",
       "      <td>1</td>\n",
       "      <td>0</td>\n",
       "      <td>2</td>\n",
       "      <td>0.0</td>\n",
       "      <td>1.0</td>\n",
       "      <td>6.80</td>\n",
       "      <td>1</td>\n",
       "      <td>2 to 3 GB</td>\n",
       "      <td>upto 1GHz</td>\n",
       "      <td>1.0</td>\n",
       "      <td>upto 8MP</td>\n",
       "      <td>No Camera</td>\n",
       "    </tr>\n",
       "    <tr>\n",
       "      <th>2</th>\n",
       "      <td>2</td>\n",
       "      <td>563</td>\n",
       "      <td>1</td>\n",
       "      <td>0.5</td>\n",
       "      <td>1</td>\n",
       "      <td>2</td>\n",
       "      <td>1</td>\n",
       "      <td>41</td>\n",
       "      <td>0.9</td>\n",
       "      <td>145</td>\n",
       "      <td>5</td>\n",
       "      <td>6</td>\n",
       "      <td>1263.000000</td>\n",
       "      <td>1716</td>\n",
       "      <td>2603</td>\n",
       "      <td>9</td>\n",
       "      <td>1</td>\n",
       "      <td>1</td>\n",
       "      <td>0</td>\n",
       "      <td>2</td>\n",
       "      <td>1.0</td>\n",
       "      <td>1.0</td>\n",
       "      <td>4.40</td>\n",
       "      <td>1</td>\n",
       "      <td>2 to 3 GB</td>\n",
       "      <td>upto 1GHz</td>\n",
       "      <td>1.0</td>\n",
       "      <td>upto 8MP</td>\n",
       "      <td>upto 4MP</td>\n",
       "    </tr>\n",
       "    <tr>\n",
       "      <th>3</th>\n",
       "      <td>3</td>\n",
       "      <td>615</td>\n",
       "      <td>1</td>\n",
       "      <td>2.5</td>\n",
       "      <td>0</td>\n",
       "      <td>0</td>\n",
       "      <td>0</td>\n",
       "      <td>10</td>\n",
       "      <td>0.8</td>\n",
       "      <td>131</td>\n",
       "      <td>6</td>\n",
       "      <td>9</td>\n",
       "      <td>1216.000000</td>\n",
       "      <td>1786</td>\n",
       "      <td>2769</td>\n",
       "      <td>11</td>\n",
       "      <td>1</td>\n",
       "      <td>0</td>\n",
       "      <td>0</td>\n",
       "      <td>2</td>\n",
       "      <td>0.0</td>\n",
       "      <td>1.0</td>\n",
       "      <td>7.04</td>\n",
       "      <td>1</td>\n",
       "      <td>2 to 3 GB</td>\n",
       "      <td>upto 2.5GHz</td>\n",
       "      <td>1.0</td>\n",
       "      <td>upto 12MP</td>\n",
       "      <td>No Camera</td>\n",
       "    </tr>\n",
       "    <tr>\n",
       "      <th>4</th>\n",
       "      <td>4</td>\n",
       "      <td>1821</td>\n",
       "      <td>1</td>\n",
       "      <td>1.2</td>\n",
       "      <td>0</td>\n",
       "      <td>13</td>\n",
       "      <td>1</td>\n",
       "      <td>44</td>\n",
       "      <td>0.6</td>\n",
       "      <td>141</td>\n",
       "      <td>2</td>\n",
       "      <td>14</td>\n",
       "      <td>1208.000000</td>\n",
       "      <td>1212</td>\n",
       "      <td>1411</td>\n",
       "      <td>15</td>\n",
       "      <td>1</td>\n",
       "      <td>1</td>\n",
       "      <td>0</td>\n",
       "      <td>1</td>\n",
       "      <td>1.0</td>\n",
       "      <td>1.0</td>\n",
       "      <td>3.25</td>\n",
       "      <td>1</td>\n",
       "      <td>1 to 2 GB</td>\n",
       "      <td>upto 1.5GHz</td>\n",
       "      <td>1.0</td>\n",
       "      <td>upto 16MP</td>\n",
       "      <td>upto 16MP</td>\n",
       "    </tr>\n",
       "  </tbody>\n",
       "</table>\n",
       "</div>"
      ],
      "text/plain": [
       "   Unnamed: 0  battery_power  blue  clock_speed  dual_sim  fc  four_g  \\\n",
       "0           0            842     0          2.2         0   1       0   \n",
       "1           1           1021     1          0.5         1   0       1   \n",
       "2           2            563     1          0.5         1   2       1   \n",
       "3           3            615     1          2.5         0   0       0   \n",
       "4           4           1821     1          1.2         0  13       1   \n",
       "\n",
       "   int_memory  m_dep  mobile_wt  n_cores  pc    px_height  px_width   ram  \\\n",
       "0           7    0.6        188        2   2   786.934862       756  2549   \n",
       "1          53    0.7        136        3   6   905.000000      1988  2631   \n",
       "2          41    0.9        145        5   6  1263.000000      1716  2603   \n",
       "3          10    0.8        131        6   9  1216.000000      1786  2769   \n",
       "4          44    0.6        141        2  14  1208.000000      1212  1411   \n",
       "\n",
       "   talk_time  three_g  touch_screen  wifi  price_range  is_fc  is_pc  \\\n",
       "0         19        0             0     1            1    1.0    1.0   \n",
       "1          7        1             1     0            2    0.0    1.0   \n",
       "2          9        1             1     0            2    1.0    1.0   \n",
       "3         11        1             0     0            2    0.0    1.0   \n",
       "4         15        1             1     0            1    1.0    1.0   \n",
       "\n",
       "   screen_size  screen_quality   ram_size        speed  multicore_processor  \\\n",
       "0         4.49               1  2 to 3 GB  upto 2.5GHz                  1.0   \n",
       "1         6.80               1  2 to 3 GB    upto 1GHz                  1.0   \n",
       "2         4.40               1  2 to 3 GB    upto 1GHz                  1.0   \n",
       "3         7.04               1  2 to 3 GB  upto 2.5GHz                  1.0   \n",
       "4         3.25               1  1 to 2 GB  upto 1.5GHz                  1.0   \n",
       "\n",
       "  primary_camera front_camera  \n",
       "0       upto 4MP     upto 4MP  \n",
       "1       upto 8MP    No Camera  \n",
       "2       upto 8MP     upto 4MP  \n",
       "3      upto 12MP    No Camera  \n",
       "4      upto 16MP    upto 16MP  "
      ]
     },
     "execution_count": 382,
     "metadata": {},
     "output_type": "execute_result"
    }
   ],
   "source": [
    "screen = {'Not HD': 0, 'HD Screen':1}\n",
    "df['screen_quality'] = df['screen_quality'].map(screen)\n",
    "df.head()"
   ]
  },
  {
   "cell_type": "code",
   "execution_count": 383,
   "metadata": {},
   "outputs": [
    {
     "data": {
      "text/html": [
       "<div>\n",
       "<style scoped>\n",
       "    .dataframe tbody tr th:only-of-type {\n",
       "        vertical-align: middle;\n",
       "    }\n",
       "\n",
       "    .dataframe tbody tr th {\n",
       "        vertical-align: top;\n",
       "    }\n",
       "\n",
       "    .dataframe thead th {\n",
       "        text-align: right;\n",
       "    }\n",
       "</style>\n",
       "<table border=\"1\" class=\"dataframe\">\n",
       "  <thead>\n",
       "    <tr style=\"text-align: right;\">\n",
       "      <th></th>\n",
       "      <th>battery_power</th>\n",
       "      <th>blue</th>\n",
       "      <th>clock_speed</th>\n",
       "      <th>dual_sim</th>\n",
       "      <th>fc</th>\n",
       "      <th>four_g</th>\n",
       "      <th>int_memory</th>\n",
       "      <th>m_dep</th>\n",
       "      <th>mobile_wt</th>\n",
       "      <th>n_cores</th>\n",
       "      <th>pc</th>\n",
       "      <th>px_height</th>\n",
       "      <th>px_width</th>\n",
       "      <th>ram</th>\n",
       "      <th>talk_time</th>\n",
       "      <th>three_g</th>\n",
       "      <th>touch_screen</th>\n",
       "      <th>wifi</th>\n",
       "      <th>price_range</th>\n",
       "      <th>is_fc</th>\n",
       "      <th>is_pc</th>\n",
       "      <th>screen_size</th>\n",
       "      <th>screen_quality</th>\n",
       "      <th>ram_size</th>\n",
       "      <th>speed</th>\n",
       "      <th>multicore_processor</th>\n",
       "      <th>primary_camera</th>\n",
       "      <th>front_camera</th>\n",
       "    </tr>\n",
       "  </thead>\n",
       "  <tbody>\n",
       "    <tr>\n",
       "      <th>0</th>\n",
       "      <td>842</td>\n",
       "      <td>0</td>\n",
       "      <td>2.2</td>\n",
       "      <td>0</td>\n",
       "      <td>1</td>\n",
       "      <td>0</td>\n",
       "      <td>7</td>\n",
       "      <td>0.6</td>\n",
       "      <td>188</td>\n",
       "      <td>2</td>\n",
       "      <td>2</td>\n",
       "      <td>786.934862</td>\n",
       "      <td>756</td>\n",
       "      <td>2549</td>\n",
       "      <td>19</td>\n",
       "      <td>0</td>\n",
       "      <td>0</td>\n",
       "      <td>1</td>\n",
       "      <td>1</td>\n",
       "      <td>1.0</td>\n",
       "      <td>1.0</td>\n",
       "      <td>4.49</td>\n",
       "      <td>1</td>\n",
       "      <td>2 to 3 GB</td>\n",
       "      <td>upto 2.5GHz</td>\n",
       "      <td>1.0</td>\n",
       "      <td>upto 4MP</td>\n",
       "      <td>upto 4MP</td>\n",
       "    </tr>\n",
       "    <tr>\n",
       "      <th>1</th>\n",
       "      <td>1021</td>\n",
       "      <td>1</td>\n",
       "      <td>0.5</td>\n",
       "      <td>1</td>\n",
       "      <td>0</td>\n",
       "      <td>1</td>\n",
       "      <td>53</td>\n",
       "      <td>0.7</td>\n",
       "      <td>136</td>\n",
       "      <td>3</td>\n",
       "      <td>6</td>\n",
       "      <td>905.000000</td>\n",
       "      <td>1988</td>\n",
       "      <td>2631</td>\n",
       "      <td>7</td>\n",
       "      <td>1</td>\n",
       "      <td>1</td>\n",
       "      <td>0</td>\n",
       "      <td>2</td>\n",
       "      <td>0.0</td>\n",
       "      <td>1.0</td>\n",
       "      <td>6.80</td>\n",
       "      <td>1</td>\n",
       "      <td>2 to 3 GB</td>\n",
       "      <td>upto 1GHz</td>\n",
       "      <td>1.0</td>\n",
       "      <td>upto 8MP</td>\n",
       "      <td>No Camera</td>\n",
       "    </tr>\n",
       "    <tr>\n",
       "      <th>2</th>\n",
       "      <td>563</td>\n",
       "      <td>1</td>\n",
       "      <td>0.5</td>\n",
       "      <td>1</td>\n",
       "      <td>2</td>\n",
       "      <td>1</td>\n",
       "      <td>41</td>\n",
       "      <td>0.9</td>\n",
       "      <td>145</td>\n",
       "      <td>5</td>\n",
       "      <td>6</td>\n",
       "      <td>1263.000000</td>\n",
       "      <td>1716</td>\n",
       "      <td>2603</td>\n",
       "      <td>9</td>\n",
       "      <td>1</td>\n",
       "      <td>1</td>\n",
       "      <td>0</td>\n",
       "      <td>2</td>\n",
       "      <td>1.0</td>\n",
       "      <td>1.0</td>\n",
       "      <td>4.40</td>\n",
       "      <td>1</td>\n",
       "      <td>2 to 3 GB</td>\n",
       "      <td>upto 1GHz</td>\n",
       "      <td>1.0</td>\n",
       "      <td>upto 8MP</td>\n",
       "      <td>upto 4MP</td>\n",
       "    </tr>\n",
       "    <tr>\n",
       "      <th>3</th>\n",
       "      <td>615</td>\n",
       "      <td>1</td>\n",
       "      <td>2.5</td>\n",
       "      <td>0</td>\n",
       "      <td>0</td>\n",
       "      <td>0</td>\n",
       "      <td>10</td>\n",
       "      <td>0.8</td>\n",
       "      <td>131</td>\n",
       "      <td>6</td>\n",
       "      <td>9</td>\n",
       "      <td>1216.000000</td>\n",
       "      <td>1786</td>\n",
       "      <td>2769</td>\n",
       "      <td>11</td>\n",
       "      <td>1</td>\n",
       "      <td>0</td>\n",
       "      <td>0</td>\n",
       "      <td>2</td>\n",
       "      <td>0.0</td>\n",
       "      <td>1.0</td>\n",
       "      <td>7.04</td>\n",
       "      <td>1</td>\n",
       "      <td>2 to 3 GB</td>\n",
       "      <td>upto 2.5GHz</td>\n",
       "      <td>1.0</td>\n",
       "      <td>upto 12MP</td>\n",
       "      <td>No Camera</td>\n",
       "    </tr>\n",
       "    <tr>\n",
       "      <th>4</th>\n",
       "      <td>1821</td>\n",
       "      <td>1</td>\n",
       "      <td>1.2</td>\n",
       "      <td>0</td>\n",
       "      <td>13</td>\n",
       "      <td>1</td>\n",
       "      <td>44</td>\n",
       "      <td>0.6</td>\n",
       "      <td>141</td>\n",
       "      <td>2</td>\n",
       "      <td>14</td>\n",
       "      <td>1208.000000</td>\n",
       "      <td>1212</td>\n",
       "      <td>1411</td>\n",
       "      <td>15</td>\n",
       "      <td>1</td>\n",
       "      <td>1</td>\n",
       "      <td>0</td>\n",
       "      <td>1</td>\n",
       "      <td>1.0</td>\n",
       "      <td>1.0</td>\n",
       "      <td>3.25</td>\n",
       "      <td>1</td>\n",
       "      <td>1 to 2 GB</td>\n",
       "      <td>upto 1.5GHz</td>\n",
       "      <td>1.0</td>\n",
       "      <td>upto 16MP</td>\n",
       "      <td>upto 16MP</td>\n",
       "    </tr>\n",
       "  </tbody>\n",
       "</table>\n",
       "</div>"
      ],
      "text/plain": [
       "   battery_power  blue  clock_speed  dual_sim  fc  four_g  int_memory  m_dep  \\\n",
       "0            842     0          2.2         0   1       0           7    0.6   \n",
       "1           1021     1          0.5         1   0       1          53    0.7   \n",
       "2            563     1          0.5         1   2       1          41    0.9   \n",
       "3            615     1          2.5         0   0       0          10    0.8   \n",
       "4           1821     1          1.2         0  13       1          44    0.6   \n",
       "\n",
       "   mobile_wt  n_cores  pc    px_height  px_width   ram  talk_time  three_g  \\\n",
       "0        188        2   2   786.934862       756  2549         19        0   \n",
       "1        136        3   6   905.000000      1988  2631          7        1   \n",
       "2        145        5   6  1263.000000      1716  2603          9        1   \n",
       "3        131        6   9  1216.000000      1786  2769         11        1   \n",
       "4        141        2  14  1208.000000      1212  1411         15        1   \n",
       "\n",
       "   touch_screen  wifi  price_range  is_fc  is_pc  screen_size  screen_quality  \\\n",
       "0             0     1            1    1.0    1.0         4.49               1   \n",
       "1             1     0            2    0.0    1.0         6.80               1   \n",
       "2             1     0            2    1.0    1.0         4.40               1   \n",
       "3             0     0            2    0.0    1.0         7.04               1   \n",
       "4             1     0            1    1.0    1.0         3.25               1   \n",
       "\n",
       "    ram_size        speed  multicore_processor primary_camera front_camera  \n",
       "0  2 to 3 GB  upto 2.5GHz                  1.0       upto 4MP     upto 4MP  \n",
       "1  2 to 3 GB    upto 1GHz                  1.0       upto 8MP    No Camera  \n",
       "2  2 to 3 GB    upto 1GHz                  1.0       upto 8MP     upto 4MP  \n",
       "3  2 to 3 GB  upto 2.5GHz                  1.0      upto 12MP    No Camera  \n",
       "4  1 to 2 GB  upto 1.5GHz                  1.0      upto 16MP    upto 16MP  "
      ]
     },
     "execution_count": 383,
     "metadata": {},
     "output_type": "execute_result"
    }
   ],
   "source": [
    "df = df.drop(columns = 'Unnamed: 0')\n",
    "df.head()"
   ]
  },
  {
   "cell_type": "markdown",
   "metadata": {},
   "source": [
    "#### Ram_size"
   ]
  },
  {
   "cell_type": "code",
   "execution_count": 384,
   "metadata": {},
   "outputs": [
    {
     "data": {
      "text/html": [
       "<div>\n",
       "<style scoped>\n",
       "    .dataframe tbody tr th:only-of-type {\n",
       "        vertical-align: middle;\n",
       "    }\n",
       "\n",
       "    .dataframe tbody tr th {\n",
       "        vertical-align: top;\n",
       "    }\n",
       "\n",
       "    .dataframe thead th {\n",
       "        text-align: right;\n",
       "    }\n",
       "</style>\n",
       "<table border=\"1\" class=\"dataframe\">\n",
       "  <thead>\n",
       "    <tr style=\"text-align: right;\">\n",
       "      <th></th>\n",
       "      <th>battery_power</th>\n",
       "      <th>blue</th>\n",
       "      <th>clock_speed</th>\n",
       "      <th>dual_sim</th>\n",
       "      <th>fc</th>\n",
       "      <th>four_g</th>\n",
       "      <th>int_memory</th>\n",
       "      <th>m_dep</th>\n",
       "      <th>mobile_wt</th>\n",
       "      <th>n_cores</th>\n",
       "      <th>pc</th>\n",
       "      <th>px_height</th>\n",
       "      <th>px_width</th>\n",
       "      <th>ram</th>\n",
       "      <th>talk_time</th>\n",
       "      <th>three_g</th>\n",
       "      <th>touch_screen</th>\n",
       "      <th>wifi</th>\n",
       "      <th>price_range</th>\n",
       "      <th>is_fc</th>\n",
       "      <th>is_pc</th>\n",
       "      <th>screen_size</th>\n",
       "      <th>screen_quality</th>\n",
       "      <th>ram_size</th>\n",
       "      <th>speed</th>\n",
       "      <th>multicore_processor</th>\n",
       "      <th>primary_camera</th>\n",
       "      <th>front_camera</th>\n",
       "    </tr>\n",
       "  </thead>\n",
       "  <tbody>\n",
       "    <tr>\n",
       "      <th>0</th>\n",
       "      <td>842</td>\n",
       "      <td>0</td>\n",
       "      <td>2.2</td>\n",
       "      <td>0</td>\n",
       "      <td>1</td>\n",
       "      <td>0</td>\n",
       "      <td>7</td>\n",
       "      <td>0.6</td>\n",
       "      <td>188</td>\n",
       "      <td>2</td>\n",
       "      <td>2</td>\n",
       "      <td>786.934862</td>\n",
       "      <td>756</td>\n",
       "      <td>2549</td>\n",
       "      <td>19</td>\n",
       "      <td>0</td>\n",
       "      <td>0</td>\n",
       "      <td>1</td>\n",
       "      <td>1</td>\n",
       "      <td>1.0</td>\n",
       "      <td>1.0</td>\n",
       "      <td>4.49</td>\n",
       "      <td>1</td>\n",
       "      <td>2 to 3 GB</td>\n",
       "      <td>upto 2.5GHz</td>\n",
       "      <td>1.0</td>\n",
       "      <td>upto 4MP</td>\n",
       "      <td>upto 4MP</td>\n",
       "    </tr>\n",
       "    <tr>\n",
       "      <th>1</th>\n",
       "      <td>1021</td>\n",
       "      <td>1</td>\n",
       "      <td>0.5</td>\n",
       "      <td>1</td>\n",
       "      <td>0</td>\n",
       "      <td>1</td>\n",
       "      <td>53</td>\n",
       "      <td>0.7</td>\n",
       "      <td>136</td>\n",
       "      <td>3</td>\n",
       "      <td>6</td>\n",
       "      <td>905.000000</td>\n",
       "      <td>1988</td>\n",
       "      <td>2631</td>\n",
       "      <td>7</td>\n",
       "      <td>1</td>\n",
       "      <td>1</td>\n",
       "      <td>0</td>\n",
       "      <td>2</td>\n",
       "      <td>0.0</td>\n",
       "      <td>1.0</td>\n",
       "      <td>6.80</td>\n",
       "      <td>1</td>\n",
       "      <td>2 to 3 GB</td>\n",
       "      <td>upto 1GHz</td>\n",
       "      <td>1.0</td>\n",
       "      <td>upto 8MP</td>\n",
       "      <td>No Camera</td>\n",
       "    </tr>\n",
       "    <tr>\n",
       "      <th>2</th>\n",
       "      <td>563</td>\n",
       "      <td>1</td>\n",
       "      <td>0.5</td>\n",
       "      <td>1</td>\n",
       "      <td>2</td>\n",
       "      <td>1</td>\n",
       "      <td>41</td>\n",
       "      <td>0.9</td>\n",
       "      <td>145</td>\n",
       "      <td>5</td>\n",
       "      <td>6</td>\n",
       "      <td>1263.000000</td>\n",
       "      <td>1716</td>\n",
       "      <td>2603</td>\n",
       "      <td>9</td>\n",
       "      <td>1</td>\n",
       "      <td>1</td>\n",
       "      <td>0</td>\n",
       "      <td>2</td>\n",
       "      <td>1.0</td>\n",
       "      <td>1.0</td>\n",
       "      <td>4.40</td>\n",
       "      <td>1</td>\n",
       "      <td>2 to 3 GB</td>\n",
       "      <td>upto 1GHz</td>\n",
       "      <td>1.0</td>\n",
       "      <td>upto 8MP</td>\n",
       "      <td>upto 4MP</td>\n",
       "    </tr>\n",
       "    <tr>\n",
       "      <th>3</th>\n",
       "      <td>615</td>\n",
       "      <td>1</td>\n",
       "      <td>2.5</td>\n",
       "      <td>0</td>\n",
       "      <td>0</td>\n",
       "      <td>0</td>\n",
       "      <td>10</td>\n",
       "      <td>0.8</td>\n",
       "      <td>131</td>\n",
       "      <td>6</td>\n",
       "      <td>9</td>\n",
       "      <td>1216.000000</td>\n",
       "      <td>1786</td>\n",
       "      <td>2769</td>\n",
       "      <td>11</td>\n",
       "      <td>1</td>\n",
       "      <td>0</td>\n",
       "      <td>0</td>\n",
       "      <td>2</td>\n",
       "      <td>0.0</td>\n",
       "      <td>1.0</td>\n",
       "      <td>7.04</td>\n",
       "      <td>1</td>\n",
       "      <td>2 to 3 GB</td>\n",
       "      <td>upto 2.5GHz</td>\n",
       "      <td>1.0</td>\n",
       "      <td>upto 12MP</td>\n",
       "      <td>No Camera</td>\n",
       "    </tr>\n",
       "    <tr>\n",
       "      <th>4</th>\n",
       "      <td>1821</td>\n",
       "      <td>1</td>\n",
       "      <td>1.2</td>\n",
       "      <td>0</td>\n",
       "      <td>13</td>\n",
       "      <td>1</td>\n",
       "      <td>44</td>\n",
       "      <td>0.6</td>\n",
       "      <td>141</td>\n",
       "      <td>2</td>\n",
       "      <td>14</td>\n",
       "      <td>1208.000000</td>\n",
       "      <td>1212</td>\n",
       "      <td>1411</td>\n",
       "      <td>15</td>\n",
       "      <td>1</td>\n",
       "      <td>1</td>\n",
       "      <td>0</td>\n",
       "      <td>1</td>\n",
       "      <td>1.0</td>\n",
       "      <td>1.0</td>\n",
       "      <td>3.25</td>\n",
       "      <td>1</td>\n",
       "      <td>1 to 2 GB</td>\n",
       "      <td>upto 1.5GHz</td>\n",
       "      <td>1.0</td>\n",
       "      <td>upto 16MP</td>\n",
       "      <td>upto 16MP</td>\n",
       "    </tr>\n",
       "  </tbody>\n",
       "</table>\n",
       "</div>"
      ],
      "text/plain": [
       "   battery_power  blue  clock_speed  dual_sim  fc  four_g  int_memory  m_dep  \\\n",
       "0            842     0          2.2         0   1       0           7    0.6   \n",
       "1           1021     1          0.5         1   0       1          53    0.7   \n",
       "2            563     1          0.5         1   2       1          41    0.9   \n",
       "3            615     1          2.5         0   0       0          10    0.8   \n",
       "4           1821     1          1.2         0  13       1          44    0.6   \n",
       "\n",
       "   mobile_wt  n_cores  pc    px_height  px_width   ram  talk_time  three_g  \\\n",
       "0        188        2   2   786.934862       756  2549         19        0   \n",
       "1        136        3   6   905.000000      1988  2631          7        1   \n",
       "2        145        5   6  1263.000000      1716  2603          9        1   \n",
       "3        131        6   9  1216.000000      1786  2769         11        1   \n",
       "4        141        2  14  1208.000000      1212  1411         15        1   \n",
       "\n",
       "   touch_screen  wifi  price_range  is_fc  is_pc  screen_size  screen_quality  \\\n",
       "0             0     1            1    1.0    1.0         4.49               1   \n",
       "1             1     0            2    0.0    1.0         6.80               1   \n",
       "2             1     0            2    1.0    1.0         4.40               1   \n",
       "3             0     0            2    0.0    1.0         7.04               1   \n",
       "4             1     0            1    1.0    1.0         3.25               1   \n",
       "\n",
       "    ram_size        speed  multicore_processor primary_camera front_camera  \n",
       "0  2 to 3 GB  upto 2.5GHz                  1.0       upto 4MP     upto 4MP  \n",
       "1  2 to 3 GB    upto 1GHz                  1.0       upto 8MP    No Camera  \n",
       "2  2 to 3 GB    upto 1GHz                  1.0       upto 8MP     upto 4MP  \n",
       "3  2 to 3 GB  upto 2.5GHz                  1.0      upto 12MP    No Camera  \n",
       "4  1 to 2 GB  upto 1.5GHz                  1.0      upto 16MP    upto 16MP  "
      ]
     },
     "execution_count": 384,
     "metadata": {},
     "output_type": "execute_result"
    }
   ],
   "source": [
    "df['ram_size'] = df['ram_size'].fillna('256 to 512 MB')\n",
    "df.head()"
   ]
  },
  {
   "cell_type": "code",
   "execution_count": 385,
   "metadata": {},
   "outputs": [
    {
     "data": {
      "text/plain": [
       "array(['2 to 3 GB', '1 to 2 GB', '3 to 4 GB', '512 MB to 1GB',\n",
       "       '256 to 512 MB'], dtype=object)"
      ]
     },
     "execution_count": 385,
     "metadata": {},
     "output_type": "execute_result"
    }
   ],
   "source": [
    "df['ram_size'].unique()"
   ]
  },
  {
   "cell_type": "code",
   "execution_count": 386,
   "metadata": {},
   "outputs": [
    {
     "data": {
      "text/html": [
       "<div>\n",
       "<style scoped>\n",
       "    .dataframe tbody tr th:only-of-type {\n",
       "        vertical-align: middle;\n",
       "    }\n",
       "\n",
       "    .dataframe tbody tr th {\n",
       "        vertical-align: top;\n",
       "    }\n",
       "\n",
       "    .dataframe thead th {\n",
       "        text-align: right;\n",
       "    }\n",
       "</style>\n",
       "<table border=\"1\" class=\"dataframe\">\n",
       "  <thead>\n",
       "    <tr style=\"text-align: right;\">\n",
       "      <th></th>\n",
       "      <th>battery_power</th>\n",
       "      <th>blue</th>\n",
       "      <th>clock_speed</th>\n",
       "      <th>dual_sim</th>\n",
       "      <th>fc</th>\n",
       "      <th>four_g</th>\n",
       "      <th>int_memory</th>\n",
       "      <th>m_dep</th>\n",
       "      <th>mobile_wt</th>\n",
       "      <th>n_cores</th>\n",
       "      <th>pc</th>\n",
       "      <th>px_height</th>\n",
       "      <th>px_width</th>\n",
       "      <th>ram</th>\n",
       "      <th>talk_time</th>\n",
       "      <th>three_g</th>\n",
       "      <th>touch_screen</th>\n",
       "      <th>wifi</th>\n",
       "      <th>price_range</th>\n",
       "      <th>is_fc</th>\n",
       "      <th>is_pc</th>\n",
       "      <th>screen_size</th>\n",
       "      <th>screen_quality</th>\n",
       "      <th>ram_size</th>\n",
       "      <th>speed</th>\n",
       "      <th>multicore_processor</th>\n",
       "      <th>primary_camera</th>\n",
       "      <th>front_camera</th>\n",
       "    </tr>\n",
       "  </thead>\n",
       "  <tbody>\n",
       "    <tr>\n",
       "      <th>0</th>\n",
       "      <td>842</td>\n",
       "      <td>0</td>\n",
       "      <td>2.2</td>\n",
       "      <td>0</td>\n",
       "      <td>1</td>\n",
       "      <td>0</td>\n",
       "      <td>7</td>\n",
       "      <td>0.6</td>\n",
       "      <td>188</td>\n",
       "      <td>2</td>\n",
       "      <td>2</td>\n",
       "      <td>786.934862</td>\n",
       "      <td>756</td>\n",
       "      <td>2549</td>\n",
       "      <td>19</td>\n",
       "      <td>0</td>\n",
       "      <td>0</td>\n",
       "      <td>1</td>\n",
       "      <td>1</td>\n",
       "      <td>1.0</td>\n",
       "      <td>1.0</td>\n",
       "      <td>4.49</td>\n",
       "      <td>1</td>\n",
       "      <td>3</td>\n",
       "      <td>upto 2.5GHz</td>\n",
       "      <td>1.0</td>\n",
       "      <td>upto 4MP</td>\n",
       "      <td>upto 4MP</td>\n",
       "    </tr>\n",
       "    <tr>\n",
       "      <th>1</th>\n",
       "      <td>1021</td>\n",
       "      <td>1</td>\n",
       "      <td>0.5</td>\n",
       "      <td>1</td>\n",
       "      <td>0</td>\n",
       "      <td>1</td>\n",
       "      <td>53</td>\n",
       "      <td>0.7</td>\n",
       "      <td>136</td>\n",
       "      <td>3</td>\n",
       "      <td>6</td>\n",
       "      <td>905.000000</td>\n",
       "      <td>1988</td>\n",
       "      <td>2631</td>\n",
       "      <td>7</td>\n",
       "      <td>1</td>\n",
       "      <td>1</td>\n",
       "      <td>0</td>\n",
       "      <td>2</td>\n",
       "      <td>0.0</td>\n",
       "      <td>1.0</td>\n",
       "      <td>6.80</td>\n",
       "      <td>1</td>\n",
       "      <td>3</td>\n",
       "      <td>upto 1GHz</td>\n",
       "      <td>1.0</td>\n",
       "      <td>upto 8MP</td>\n",
       "      <td>No Camera</td>\n",
       "    </tr>\n",
       "    <tr>\n",
       "      <th>2</th>\n",
       "      <td>563</td>\n",
       "      <td>1</td>\n",
       "      <td>0.5</td>\n",
       "      <td>1</td>\n",
       "      <td>2</td>\n",
       "      <td>1</td>\n",
       "      <td>41</td>\n",
       "      <td>0.9</td>\n",
       "      <td>145</td>\n",
       "      <td>5</td>\n",
       "      <td>6</td>\n",
       "      <td>1263.000000</td>\n",
       "      <td>1716</td>\n",
       "      <td>2603</td>\n",
       "      <td>9</td>\n",
       "      <td>1</td>\n",
       "      <td>1</td>\n",
       "      <td>0</td>\n",
       "      <td>2</td>\n",
       "      <td>1.0</td>\n",
       "      <td>1.0</td>\n",
       "      <td>4.40</td>\n",
       "      <td>1</td>\n",
       "      <td>3</td>\n",
       "      <td>upto 1GHz</td>\n",
       "      <td>1.0</td>\n",
       "      <td>upto 8MP</td>\n",
       "      <td>upto 4MP</td>\n",
       "    </tr>\n",
       "    <tr>\n",
       "      <th>3</th>\n",
       "      <td>615</td>\n",
       "      <td>1</td>\n",
       "      <td>2.5</td>\n",
       "      <td>0</td>\n",
       "      <td>0</td>\n",
       "      <td>0</td>\n",
       "      <td>10</td>\n",
       "      <td>0.8</td>\n",
       "      <td>131</td>\n",
       "      <td>6</td>\n",
       "      <td>9</td>\n",
       "      <td>1216.000000</td>\n",
       "      <td>1786</td>\n",
       "      <td>2769</td>\n",
       "      <td>11</td>\n",
       "      <td>1</td>\n",
       "      <td>0</td>\n",
       "      <td>0</td>\n",
       "      <td>2</td>\n",
       "      <td>0.0</td>\n",
       "      <td>1.0</td>\n",
       "      <td>7.04</td>\n",
       "      <td>1</td>\n",
       "      <td>3</td>\n",
       "      <td>upto 2.5GHz</td>\n",
       "      <td>1.0</td>\n",
       "      <td>upto 12MP</td>\n",
       "      <td>No Camera</td>\n",
       "    </tr>\n",
       "    <tr>\n",
       "      <th>4</th>\n",
       "      <td>1821</td>\n",
       "      <td>1</td>\n",
       "      <td>1.2</td>\n",
       "      <td>0</td>\n",
       "      <td>13</td>\n",
       "      <td>1</td>\n",
       "      <td>44</td>\n",
       "      <td>0.6</td>\n",
       "      <td>141</td>\n",
       "      <td>2</td>\n",
       "      <td>14</td>\n",
       "      <td>1208.000000</td>\n",
       "      <td>1212</td>\n",
       "      <td>1411</td>\n",
       "      <td>15</td>\n",
       "      <td>1</td>\n",
       "      <td>1</td>\n",
       "      <td>0</td>\n",
       "      <td>1</td>\n",
       "      <td>1.0</td>\n",
       "      <td>1.0</td>\n",
       "      <td>3.25</td>\n",
       "      <td>1</td>\n",
       "      <td>2</td>\n",
       "      <td>upto 1.5GHz</td>\n",
       "      <td>1.0</td>\n",
       "      <td>upto 16MP</td>\n",
       "      <td>upto 16MP</td>\n",
       "    </tr>\n",
       "  </tbody>\n",
       "</table>\n",
       "</div>"
      ],
      "text/plain": [
       "   battery_power  blue  clock_speed  dual_sim  fc  four_g  int_memory  m_dep  \\\n",
       "0            842     0          2.2         0   1       0           7    0.6   \n",
       "1           1021     1          0.5         1   0       1          53    0.7   \n",
       "2            563     1          0.5         1   2       1          41    0.9   \n",
       "3            615     1          2.5         0   0       0          10    0.8   \n",
       "4           1821     1          1.2         0  13       1          44    0.6   \n",
       "\n",
       "   mobile_wt  n_cores  pc    px_height  px_width   ram  talk_time  three_g  \\\n",
       "0        188        2   2   786.934862       756  2549         19        0   \n",
       "1        136        3   6   905.000000      1988  2631          7        1   \n",
       "2        145        5   6  1263.000000      1716  2603          9        1   \n",
       "3        131        6   9  1216.000000      1786  2769         11        1   \n",
       "4        141        2  14  1208.000000      1212  1411         15        1   \n",
       "\n",
       "   touch_screen  wifi  price_range  is_fc  is_pc  screen_size  screen_quality  \\\n",
       "0             0     1            1    1.0    1.0         4.49               1   \n",
       "1             1     0            2    0.0    1.0         6.80               1   \n",
       "2             1     0            2    1.0    1.0         4.40               1   \n",
       "3             0     0            2    0.0    1.0         7.04               1   \n",
       "4             1     0            1    1.0    1.0         3.25               1   \n",
       "\n",
       "   ram_size        speed  multicore_processor primary_camera front_camera  \n",
       "0         3  upto 2.5GHz                  1.0       upto 4MP     upto 4MP  \n",
       "1         3    upto 1GHz                  1.0       upto 8MP    No Camera  \n",
       "2         3    upto 1GHz                  1.0       upto 8MP     upto 4MP  \n",
       "3         3  upto 2.5GHz                  1.0      upto 12MP    No Camera  \n",
       "4         2  upto 1.5GHz                  1.0      upto 16MP    upto 16MP  "
      ]
     },
     "execution_count": 386,
     "metadata": {},
     "output_type": "execute_result"
    }
   ],
   "source": [
    "ramsize = {'256 to 512 MB': 0, '512 MB to 1GB':1, '1 to 2 GB':2, '2 to 3 GB':3, '3 to 4 GB':4}\n",
    "\n",
    "df['ram_size'] = df['ram_size'].map(ramsize)\n",
    "df.head()"
   ]
  },
  {
   "cell_type": "markdown",
   "metadata": {},
   "source": [
    "### Processor Speed"
   ]
  },
  {
   "cell_type": "code",
   "execution_count": 387,
   "metadata": {},
   "outputs": [
    {
     "data": {
      "text/plain": [
       "array(['upto 2.5GHz', 'upto 1GHz', 'upto 1.5GHz', 'upto 2GHz',\n",
       "       'upto 3.0GHz'], dtype=object)"
      ]
     },
     "execution_count": 387,
     "metadata": {},
     "output_type": "execute_result"
    }
   ],
   "source": [
    "df['speed'].unique()"
   ]
  },
  {
   "cell_type": "code",
   "execution_count": 388,
   "metadata": {},
   "outputs": [
    {
     "data": {
      "text/html": [
       "<div>\n",
       "<style scoped>\n",
       "    .dataframe tbody tr th:only-of-type {\n",
       "        vertical-align: middle;\n",
       "    }\n",
       "\n",
       "    .dataframe tbody tr th {\n",
       "        vertical-align: top;\n",
       "    }\n",
       "\n",
       "    .dataframe thead th {\n",
       "        text-align: right;\n",
       "    }\n",
       "</style>\n",
       "<table border=\"1\" class=\"dataframe\">\n",
       "  <thead>\n",
       "    <tr style=\"text-align: right;\">\n",
       "      <th></th>\n",
       "      <th>battery_power</th>\n",
       "      <th>blue</th>\n",
       "      <th>clock_speed</th>\n",
       "      <th>dual_sim</th>\n",
       "      <th>fc</th>\n",
       "      <th>four_g</th>\n",
       "      <th>int_memory</th>\n",
       "      <th>m_dep</th>\n",
       "      <th>mobile_wt</th>\n",
       "      <th>n_cores</th>\n",
       "      <th>pc</th>\n",
       "      <th>px_height</th>\n",
       "      <th>px_width</th>\n",
       "      <th>ram</th>\n",
       "      <th>talk_time</th>\n",
       "      <th>three_g</th>\n",
       "      <th>touch_screen</th>\n",
       "      <th>wifi</th>\n",
       "      <th>price_range</th>\n",
       "      <th>is_fc</th>\n",
       "      <th>is_pc</th>\n",
       "      <th>screen_size</th>\n",
       "      <th>screen_quality</th>\n",
       "      <th>ram_size</th>\n",
       "      <th>speed</th>\n",
       "      <th>multicore_processor</th>\n",
       "      <th>primary_camera</th>\n",
       "      <th>front_camera</th>\n",
       "    </tr>\n",
       "  </thead>\n",
       "  <tbody>\n",
       "    <tr>\n",
       "      <th>0</th>\n",
       "      <td>842</td>\n",
       "      <td>0</td>\n",
       "      <td>2.2</td>\n",
       "      <td>0</td>\n",
       "      <td>1</td>\n",
       "      <td>0</td>\n",
       "      <td>7</td>\n",
       "      <td>0.6</td>\n",
       "      <td>188</td>\n",
       "      <td>2</td>\n",
       "      <td>2</td>\n",
       "      <td>786.934862</td>\n",
       "      <td>756</td>\n",
       "      <td>2549</td>\n",
       "      <td>19</td>\n",
       "      <td>0</td>\n",
       "      <td>0</td>\n",
       "      <td>1</td>\n",
       "      <td>1</td>\n",
       "      <td>1.0</td>\n",
       "      <td>1.0</td>\n",
       "      <td>4.49</td>\n",
       "      <td>1</td>\n",
       "      <td>3</td>\n",
       "      <td>3</td>\n",
       "      <td>1.0</td>\n",
       "      <td>upto 4MP</td>\n",
       "      <td>upto 4MP</td>\n",
       "    </tr>\n",
       "    <tr>\n",
       "      <th>1</th>\n",
       "      <td>1021</td>\n",
       "      <td>1</td>\n",
       "      <td>0.5</td>\n",
       "      <td>1</td>\n",
       "      <td>0</td>\n",
       "      <td>1</td>\n",
       "      <td>53</td>\n",
       "      <td>0.7</td>\n",
       "      <td>136</td>\n",
       "      <td>3</td>\n",
       "      <td>6</td>\n",
       "      <td>905.000000</td>\n",
       "      <td>1988</td>\n",
       "      <td>2631</td>\n",
       "      <td>7</td>\n",
       "      <td>1</td>\n",
       "      <td>1</td>\n",
       "      <td>0</td>\n",
       "      <td>2</td>\n",
       "      <td>0.0</td>\n",
       "      <td>1.0</td>\n",
       "      <td>6.80</td>\n",
       "      <td>1</td>\n",
       "      <td>3</td>\n",
       "      <td>0</td>\n",
       "      <td>1.0</td>\n",
       "      <td>upto 8MP</td>\n",
       "      <td>No Camera</td>\n",
       "    </tr>\n",
       "    <tr>\n",
       "      <th>2</th>\n",
       "      <td>563</td>\n",
       "      <td>1</td>\n",
       "      <td>0.5</td>\n",
       "      <td>1</td>\n",
       "      <td>2</td>\n",
       "      <td>1</td>\n",
       "      <td>41</td>\n",
       "      <td>0.9</td>\n",
       "      <td>145</td>\n",
       "      <td>5</td>\n",
       "      <td>6</td>\n",
       "      <td>1263.000000</td>\n",
       "      <td>1716</td>\n",
       "      <td>2603</td>\n",
       "      <td>9</td>\n",
       "      <td>1</td>\n",
       "      <td>1</td>\n",
       "      <td>0</td>\n",
       "      <td>2</td>\n",
       "      <td>1.0</td>\n",
       "      <td>1.0</td>\n",
       "      <td>4.40</td>\n",
       "      <td>1</td>\n",
       "      <td>3</td>\n",
       "      <td>0</td>\n",
       "      <td>1.0</td>\n",
       "      <td>upto 8MP</td>\n",
       "      <td>upto 4MP</td>\n",
       "    </tr>\n",
       "    <tr>\n",
       "      <th>3</th>\n",
       "      <td>615</td>\n",
       "      <td>1</td>\n",
       "      <td>2.5</td>\n",
       "      <td>0</td>\n",
       "      <td>0</td>\n",
       "      <td>0</td>\n",
       "      <td>10</td>\n",
       "      <td>0.8</td>\n",
       "      <td>131</td>\n",
       "      <td>6</td>\n",
       "      <td>9</td>\n",
       "      <td>1216.000000</td>\n",
       "      <td>1786</td>\n",
       "      <td>2769</td>\n",
       "      <td>11</td>\n",
       "      <td>1</td>\n",
       "      <td>0</td>\n",
       "      <td>0</td>\n",
       "      <td>2</td>\n",
       "      <td>0.0</td>\n",
       "      <td>1.0</td>\n",
       "      <td>7.04</td>\n",
       "      <td>1</td>\n",
       "      <td>3</td>\n",
       "      <td>3</td>\n",
       "      <td>1.0</td>\n",
       "      <td>upto 12MP</td>\n",
       "      <td>No Camera</td>\n",
       "    </tr>\n",
       "    <tr>\n",
       "      <th>4</th>\n",
       "      <td>1821</td>\n",
       "      <td>1</td>\n",
       "      <td>1.2</td>\n",
       "      <td>0</td>\n",
       "      <td>13</td>\n",
       "      <td>1</td>\n",
       "      <td>44</td>\n",
       "      <td>0.6</td>\n",
       "      <td>141</td>\n",
       "      <td>2</td>\n",
       "      <td>14</td>\n",
       "      <td>1208.000000</td>\n",
       "      <td>1212</td>\n",
       "      <td>1411</td>\n",
       "      <td>15</td>\n",
       "      <td>1</td>\n",
       "      <td>1</td>\n",
       "      <td>0</td>\n",
       "      <td>1</td>\n",
       "      <td>1.0</td>\n",
       "      <td>1.0</td>\n",
       "      <td>3.25</td>\n",
       "      <td>1</td>\n",
       "      <td>2</td>\n",
       "      <td>1</td>\n",
       "      <td>1.0</td>\n",
       "      <td>upto 16MP</td>\n",
       "      <td>upto 16MP</td>\n",
       "    </tr>\n",
       "  </tbody>\n",
       "</table>\n",
       "</div>"
      ],
      "text/plain": [
       "   battery_power  blue  clock_speed  dual_sim  fc  four_g  int_memory  m_dep  \\\n",
       "0            842     0          2.2         0   1       0           7    0.6   \n",
       "1           1021     1          0.5         1   0       1          53    0.7   \n",
       "2            563     1          0.5         1   2       1          41    0.9   \n",
       "3            615     1          2.5         0   0       0          10    0.8   \n",
       "4           1821     1          1.2         0  13       1          44    0.6   \n",
       "\n",
       "   mobile_wt  n_cores  pc    px_height  px_width   ram  talk_time  three_g  \\\n",
       "0        188        2   2   786.934862       756  2549         19        0   \n",
       "1        136        3   6   905.000000      1988  2631          7        1   \n",
       "2        145        5   6  1263.000000      1716  2603          9        1   \n",
       "3        131        6   9  1216.000000      1786  2769         11        1   \n",
       "4        141        2  14  1208.000000      1212  1411         15        1   \n",
       "\n",
       "   touch_screen  wifi  price_range  is_fc  is_pc  screen_size  screen_quality  \\\n",
       "0             0     1            1    1.0    1.0         4.49               1   \n",
       "1             1     0            2    0.0    1.0         6.80               1   \n",
       "2             1     0            2    1.0    1.0         4.40               1   \n",
       "3             0     0            2    0.0    1.0         7.04               1   \n",
       "4             1     0            1    1.0    1.0         3.25               1   \n",
       "\n",
       "   ram_size  speed  multicore_processor primary_camera front_camera  \n",
       "0         3      3                  1.0       upto 4MP     upto 4MP  \n",
       "1         3      0                  1.0       upto 8MP    No Camera  \n",
       "2         3      0                  1.0       upto 8MP     upto 4MP  \n",
       "3         3      3                  1.0      upto 12MP    No Camera  \n",
       "4         2      1                  1.0      upto 16MP    upto 16MP  "
      ]
     },
     "execution_count": 388,
     "metadata": {},
     "output_type": "execute_result"
    }
   ],
   "source": [
    "speed = {'upto 1GHz':0, 'upto 1.5GHz':1, 'upto 2GHz':2, 'upto 2.5GHz':3,'upto 3.0GHz':4 }\n",
    "df['speed'] = df['speed'].map(speed)\n",
    "df.head()"
   ]
  },
  {
   "cell_type": "markdown",
   "metadata": {},
   "source": [
    "### Camera"
   ]
  },
  {
   "cell_type": "code",
   "execution_count": 389,
   "metadata": {},
   "outputs": [
    {
     "data": {
      "text/plain": [
       "array(['upto 4MP', 'upto 8MP', 'upto 12MP', 'upto 16MP', 'No Camera',\n",
       "       'upto 20MP'], dtype=object)"
      ]
     },
     "execution_count": 389,
     "metadata": {},
     "output_type": "execute_result"
    }
   ],
   "source": [
    "df['primary_camera'].unique()"
   ]
  },
  {
   "cell_type": "code",
   "execution_count": 390,
   "metadata": {},
   "outputs": [
    {
     "data": {
      "text/plain": [
       "array(['upto 4MP', 'No Camera', 'upto 16MP', 'upto 8MP', 'upto 12MP',\n",
       "       'upto 20MP'], dtype=object)"
      ]
     },
     "execution_count": 390,
     "metadata": {},
     "output_type": "execute_result"
    }
   ],
   "source": [
    "df['front_camera'].unique()"
   ]
  },
  {
   "cell_type": "code",
   "execution_count": 391,
   "metadata": {},
   "outputs": [
    {
     "data": {
      "text/html": [
       "<div>\n",
       "<style scoped>\n",
       "    .dataframe tbody tr th:only-of-type {\n",
       "        vertical-align: middle;\n",
       "    }\n",
       "\n",
       "    .dataframe tbody tr th {\n",
       "        vertical-align: top;\n",
       "    }\n",
       "\n",
       "    .dataframe thead th {\n",
       "        text-align: right;\n",
       "    }\n",
       "</style>\n",
       "<table border=\"1\" class=\"dataframe\">\n",
       "  <thead>\n",
       "    <tr style=\"text-align: right;\">\n",
       "      <th></th>\n",
       "      <th>battery_power</th>\n",
       "      <th>blue</th>\n",
       "      <th>clock_speed</th>\n",
       "      <th>dual_sim</th>\n",
       "      <th>fc</th>\n",
       "      <th>four_g</th>\n",
       "      <th>int_memory</th>\n",
       "      <th>m_dep</th>\n",
       "      <th>mobile_wt</th>\n",
       "      <th>n_cores</th>\n",
       "      <th>pc</th>\n",
       "      <th>px_height</th>\n",
       "      <th>px_width</th>\n",
       "      <th>ram</th>\n",
       "      <th>talk_time</th>\n",
       "      <th>three_g</th>\n",
       "      <th>touch_screen</th>\n",
       "      <th>wifi</th>\n",
       "      <th>price_range</th>\n",
       "      <th>is_fc</th>\n",
       "      <th>is_pc</th>\n",
       "      <th>screen_size</th>\n",
       "      <th>screen_quality</th>\n",
       "      <th>ram_size</th>\n",
       "      <th>speed</th>\n",
       "      <th>multicore_processor</th>\n",
       "      <th>primary_camera</th>\n",
       "      <th>front_camera</th>\n",
       "    </tr>\n",
       "  </thead>\n",
       "  <tbody>\n",
       "    <tr>\n",
       "      <th>0</th>\n",
       "      <td>842</td>\n",
       "      <td>0</td>\n",
       "      <td>2.2</td>\n",
       "      <td>0</td>\n",
       "      <td>1</td>\n",
       "      <td>0</td>\n",
       "      <td>7</td>\n",
       "      <td>0.6</td>\n",
       "      <td>188</td>\n",
       "      <td>2</td>\n",
       "      <td>2</td>\n",
       "      <td>786.934862</td>\n",
       "      <td>756</td>\n",
       "      <td>2549</td>\n",
       "      <td>19</td>\n",
       "      <td>0</td>\n",
       "      <td>0</td>\n",
       "      <td>1</td>\n",
       "      <td>1</td>\n",
       "      <td>1.0</td>\n",
       "      <td>1.0</td>\n",
       "      <td>4.49</td>\n",
       "      <td>1</td>\n",
       "      <td>3</td>\n",
       "      <td>3</td>\n",
       "      <td>1.0</td>\n",
       "      <td>1</td>\n",
       "      <td>1</td>\n",
       "    </tr>\n",
       "    <tr>\n",
       "      <th>1</th>\n",
       "      <td>1021</td>\n",
       "      <td>1</td>\n",
       "      <td>0.5</td>\n",
       "      <td>1</td>\n",
       "      <td>0</td>\n",
       "      <td>1</td>\n",
       "      <td>53</td>\n",
       "      <td>0.7</td>\n",
       "      <td>136</td>\n",
       "      <td>3</td>\n",
       "      <td>6</td>\n",
       "      <td>905.000000</td>\n",
       "      <td>1988</td>\n",
       "      <td>2631</td>\n",
       "      <td>7</td>\n",
       "      <td>1</td>\n",
       "      <td>1</td>\n",
       "      <td>0</td>\n",
       "      <td>2</td>\n",
       "      <td>0.0</td>\n",
       "      <td>1.0</td>\n",
       "      <td>6.80</td>\n",
       "      <td>1</td>\n",
       "      <td>3</td>\n",
       "      <td>0</td>\n",
       "      <td>1.0</td>\n",
       "      <td>2</td>\n",
       "      <td>0</td>\n",
       "    </tr>\n",
       "    <tr>\n",
       "      <th>2</th>\n",
       "      <td>563</td>\n",
       "      <td>1</td>\n",
       "      <td>0.5</td>\n",
       "      <td>1</td>\n",
       "      <td>2</td>\n",
       "      <td>1</td>\n",
       "      <td>41</td>\n",
       "      <td>0.9</td>\n",
       "      <td>145</td>\n",
       "      <td>5</td>\n",
       "      <td>6</td>\n",
       "      <td>1263.000000</td>\n",
       "      <td>1716</td>\n",
       "      <td>2603</td>\n",
       "      <td>9</td>\n",
       "      <td>1</td>\n",
       "      <td>1</td>\n",
       "      <td>0</td>\n",
       "      <td>2</td>\n",
       "      <td>1.0</td>\n",
       "      <td>1.0</td>\n",
       "      <td>4.40</td>\n",
       "      <td>1</td>\n",
       "      <td>3</td>\n",
       "      <td>0</td>\n",
       "      <td>1.0</td>\n",
       "      <td>2</td>\n",
       "      <td>1</td>\n",
       "    </tr>\n",
       "    <tr>\n",
       "      <th>3</th>\n",
       "      <td>615</td>\n",
       "      <td>1</td>\n",
       "      <td>2.5</td>\n",
       "      <td>0</td>\n",
       "      <td>0</td>\n",
       "      <td>0</td>\n",
       "      <td>10</td>\n",
       "      <td>0.8</td>\n",
       "      <td>131</td>\n",
       "      <td>6</td>\n",
       "      <td>9</td>\n",
       "      <td>1216.000000</td>\n",
       "      <td>1786</td>\n",
       "      <td>2769</td>\n",
       "      <td>11</td>\n",
       "      <td>1</td>\n",
       "      <td>0</td>\n",
       "      <td>0</td>\n",
       "      <td>2</td>\n",
       "      <td>0.0</td>\n",
       "      <td>1.0</td>\n",
       "      <td>7.04</td>\n",
       "      <td>1</td>\n",
       "      <td>3</td>\n",
       "      <td>3</td>\n",
       "      <td>1.0</td>\n",
       "      <td>3</td>\n",
       "      <td>0</td>\n",
       "    </tr>\n",
       "    <tr>\n",
       "      <th>4</th>\n",
       "      <td>1821</td>\n",
       "      <td>1</td>\n",
       "      <td>1.2</td>\n",
       "      <td>0</td>\n",
       "      <td>13</td>\n",
       "      <td>1</td>\n",
       "      <td>44</td>\n",
       "      <td>0.6</td>\n",
       "      <td>141</td>\n",
       "      <td>2</td>\n",
       "      <td>14</td>\n",
       "      <td>1208.000000</td>\n",
       "      <td>1212</td>\n",
       "      <td>1411</td>\n",
       "      <td>15</td>\n",
       "      <td>1</td>\n",
       "      <td>1</td>\n",
       "      <td>0</td>\n",
       "      <td>1</td>\n",
       "      <td>1.0</td>\n",
       "      <td>1.0</td>\n",
       "      <td>3.25</td>\n",
       "      <td>1</td>\n",
       "      <td>2</td>\n",
       "      <td>1</td>\n",
       "      <td>1.0</td>\n",
       "      <td>4</td>\n",
       "      <td>4</td>\n",
       "    </tr>\n",
       "  </tbody>\n",
       "</table>\n",
       "</div>"
      ],
      "text/plain": [
       "   battery_power  blue  clock_speed  dual_sim  fc  four_g  int_memory  m_dep  \\\n",
       "0            842     0          2.2         0   1       0           7    0.6   \n",
       "1           1021     1          0.5         1   0       1          53    0.7   \n",
       "2            563     1          0.5         1   2       1          41    0.9   \n",
       "3            615     1          2.5         0   0       0          10    0.8   \n",
       "4           1821     1          1.2         0  13       1          44    0.6   \n",
       "\n",
       "   mobile_wt  n_cores  pc    px_height  px_width   ram  talk_time  three_g  \\\n",
       "0        188        2   2   786.934862       756  2549         19        0   \n",
       "1        136        3   6   905.000000      1988  2631          7        1   \n",
       "2        145        5   6  1263.000000      1716  2603          9        1   \n",
       "3        131        6   9  1216.000000      1786  2769         11        1   \n",
       "4        141        2  14  1208.000000      1212  1411         15        1   \n",
       "\n",
       "   touch_screen  wifi  price_range  is_fc  is_pc  screen_size  screen_quality  \\\n",
       "0             0     1            1    1.0    1.0         4.49               1   \n",
       "1             1     0            2    0.0    1.0         6.80               1   \n",
       "2             1     0            2    1.0    1.0         4.40               1   \n",
       "3             0     0            2    0.0    1.0         7.04               1   \n",
       "4             1     0            1    1.0    1.0         3.25               1   \n",
       "\n",
       "   ram_size  speed  multicore_processor  primary_camera  front_camera  \n",
       "0         3      3                  1.0               1             1  \n",
       "1         3      0                  1.0               2             0  \n",
       "2         3      0                  1.0               2             1  \n",
       "3         3      3                  1.0               3             0  \n",
       "4         2      1                  1.0               4             4  "
      ]
     },
     "execution_count": 391,
     "metadata": {},
     "output_type": "execute_result"
    }
   ],
   "source": [
    "camera = {'No Camera':0, 'upto 4MP':1, 'upto 8MP':2, 'upto 12MP':3, 'upto 16MP':4, 'upto 20MP': 5}\n",
    "\n",
    "df['primary_camera'] = df['primary_camera'].map(camera)\n",
    "df['front_camera'] = df['front_camera'].map(camera)\n",
    "\n",
    "df.head()"
   ]
  },
  {
   "cell_type": "code",
   "execution_count": 392,
   "metadata": {},
   "outputs": [
    {
     "name": "stdout",
     "output_type": "stream",
     "text": [
      "<class 'pandas.core.frame.DataFrame'>\n",
      "RangeIndex: 2000 entries, 0 to 1999\n",
      "Data columns (total 28 columns):\n",
      " #   Column               Non-Null Count  Dtype  \n",
      "---  ------               --------------  -----  \n",
      " 0   battery_power        2000 non-null   int64  \n",
      " 1   blue                 2000 non-null   int64  \n",
      " 2   clock_speed          2000 non-null   float64\n",
      " 3   dual_sim             2000 non-null   int64  \n",
      " 4   fc                   2000 non-null   int64  \n",
      " 5   four_g               2000 non-null   int64  \n",
      " 6   int_memory           2000 non-null   int64  \n",
      " 7   m_dep                2000 non-null   float64\n",
      " 8   mobile_wt            2000 non-null   int64  \n",
      " 9   n_cores              2000 non-null   int64  \n",
      " 10  pc                   2000 non-null   int64  \n",
      " 11  px_height            2000 non-null   float64\n",
      " 12  px_width             2000 non-null   int64  \n",
      " 13  ram                  2000 non-null   int64  \n",
      " 14  talk_time            2000 non-null   int64  \n",
      " 15  three_g              2000 non-null   int64  \n",
      " 16  touch_screen         2000 non-null   int64  \n",
      " 17  wifi                 2000 non-null   int64  \n",
      " 18  price_range          2000 non-null   int64  \n",
      " 19  is_fc                2000 non-null   float64\n",
      " 20  is_pc                2000 non-null   float64\n",
      " 21  screen_size          2000 non-null   float64\n",
      " 22  screen_quality       2000 non-null   int64  \n",
      " 23  ram_size             2000 non-null   int64  \n",
      " 24  speed                2000 non-null   int64  \n",
      " 25  multicore_processor  2000 non-null   float64\n",
      " 26  primary_camera       2000 non-null   int64  \n",
      " 27  front_camera         2000 non-null   int64  \n",
      "dtypes: float64(7), int64(21)\n",
      "memory usage: 437.6 KB\n"
     ]
    }
   ],
   "source": [
    "df.info()\n",
    "\n",
    "# now all the data has been encoded we can move on with the process "
   ]
  },
  {
   "cell_type": "code",
   "execution_count": 393,
   "metadata": {},
   "outputs": [
    {
     "data": {
      "text/plain": [
       "<matplotlib.axes._subplots.AxesSubplot at 0x18284f9d8b0>"
      ]
     },
     "execution_count": 393,
     "metadata": {},
     "output_type": "execute_result"
    },
    {
     "data": {
      "image/png": "[encoded data removed]",
      "text/plain": [
       "<Figure size 1656x720 with 2 Axes>"
      ]
     },
     "metadata": {},
     "output_type": "display_data"
    }
   ],
   "source": [
    "plt.figure(figsize = (23, 10))\n",
    "sns.heatmap(df.corr(), annot = True)"
   ]
  },
  {
   "cell_type": "code",
   "execution_count": 394,
   "metadata": {},
   "outputs": [
    {
     "data": {
      "text/plain": [
       "ram                    0.917046\n",
       "ram_size               0.879003\n",
       "screen_quality         0.210287\n",
       "battery_power          0.200723\n",
       "px_height              0.183910\n",
       "px_width               0.165818\n",
       "int_memory             0.044435\n",
       "is_pc                  0.043910\n",
       "primary_camera         0.036386\n",
       "screen_size            0.034804\n",
       "pc                     0.033599\n",
       "three_g                0.023611\n",
       "is_fc                  0.022085\n",
       "fc                     0.021998\n",
       "talk_time              0.021859\n",
       "blue                   0.020573\n",
       "wifi                   0.018785\n",
       "front_camera           0.017697\n",
       "dual_sim               0.017444\n",
       "four_g                 0.014772\n",
       "n_cores                0.004399\n",
       "m_dep                  0.000853\n",
       "clock_speed           -0.006606\n",
       "speed                 -0.006827\n",
       "multicore_processor   -0.016455\n",
       "mobile_wt             -0.030302\n",
       "touch_screen          -0.030411\n",
       "Name: price_range, dtype: float64"
      ]
     },
     "execution_count": 394,
     "metadata": {},
     "output_type": "execute_result"
    }
   ],
   "source": [
    "correlation = df.corr()\n",
    "correlation['price_range'].sort_values(ascending = False)[1:]\n",
    "\n",
    "# the features that's going to get selected is \n",
    "# - ram\n",
    "# - battery power\n",
    "# - px_width\n",
    "# - px_height\n",
    "# - int_memory\n",
    "# - is_pc\n",
    "\n",
    "# we only select features that has correlation above 0.04 or below 0.04\n",
    "# some features not selected due to multicolinearity "
   ]
  },
  {
   "cell_type": "markdown",
   "metadata": {},
   "source": [
    "## Features Selection and Model Building"
   ]
  },
  {
   "cell_type": "code",
   "execution_count": 395,
   "metadata": {},
   "outputs": [],
   "source": [
    "X = df[['ram', 'battery_power', 'px_height','px_width', 'int_memory', 'is_pc']]\n",
    "y = df['price_range']\n",
    "\n",
    "# - ram\n",
    "# - battery power\n",
    "# - px_width\n",
    "# - px_height\n",
    "# - int_memory\n",
    "# - is_pc\n"
   ]
  },
  {
   "cell_type": "markdown",
   "metadata": {},
   "source": [
    "**Train Test Split**"
   ]
  },
  {
   "cell_type": "code",
   "execution_count": 396,
   "metadata": {},
   "outputs": [],
   "source": [
    "X_train, X_test, y_train, y_test = train_test_split(X,y, stratify = y, random_state  = 42 , test_size = 0.2)"
   ]
  },
  {
   "cell_type": "markdown",
   "metadata": {},
   "source": [
    "## Base Model\n",
    "\n",
    "**Logistic Regression**"
   ]
  },
  {
   "cell_type": "code",
   "execution_count": 397,
   "metadata": {},
   "outputs": [],
   "source": [
    "log_reg = LogisticRegression()"
   ]
  },
  {
   "cell_type": "code",
   "execution_count": 398,
   "metadata": {},
   "outputs": [
    {
     "data": {
      "text/plain": [
       "LogisticRegression()"
      ]
     },
     "execution_count": 398,
     "metadata": {},
     "output_type": "execute_result"
    }
   ],
   "source": [
    "log_reg.fit(X_train,y_train)"
   ]
  },
  {
   "cell_type": "code",
   "execution_count": 399,
   "metadata": {},
   "outputs": [],
   "source": [
    "y_logreg_base = log_reg.predict(X_test)"
   ]
  },
  {
   "cell_type": "code",
   "execution_count": 400,
   "metadata": {},
   "outputs": [
    {
     "name": "stdout",
     "output_type": "stream",
     "text": [
      "train accuracy:  0.544375\n",
      "test accuracy:  0.535\n"
     ]
    }
   ],
   "source": [
    "## checking score of the logistic regression\n",
    "\n",
    "logreg_base_train = log_reg.score(X_train, y_train)\n",
    "\n",
    "print('train accuracy: ', log_reg.score(X_train, y_train))\n",
    "print('test accuracy: ', log_reg.score(X_test, y_test))"
   ]
  },
  {
   "cell_type": "code",
   "execution_count": 401,
   "metadata": {},
   "outputs": [
    {
     "name": "stdout",
     "output_type": "stream",
     "text": [
      "              precision    recall  f1-score   support\n",
      "\n",
      "           0       0.78      0.75      0.77       100\n",
      "           1       0.44      0.42      0.43       100\n",
      "           2       0.32      0.21      0.25       100\n",
      "           3       0.53      0.76      0.63       100\n",
      "\n",
      "    accuracy                           0.54       400\n",
      "   macro avg       0.52      0.53      0.52       400\n",
      "weighted avg       0.52      0.54      0.52       400\n",
      "\n"
     ]
    }
   ],
   "source": [
    "acc_base_logreg = accuracy_score(y_test, y_logreg_base)\n",
    "recall_base_logreg = recall_score(y_test, y_logreg_base, average = None)\n",
    "precision_base_logreg = precision_score(y_test, y_logreg_base, average = None)\n",
    "f1_base_logreg = f1_score(y_test, y_logreg_base, average = None)\n",
    "\n",
    "print(classification_report(y_test, y_logreg_base))"
   ]
  },
  {
   "cell_type": "code",
   "execution_count": 402,
   "metadata": {},
   "outputs": [
    {
     "data": {
      "text/plain": [
       "Text(0.5, 1.0, 'Confusion Matrix Logistic Regression Testing')"
      ]
     },
     "execution_count": 402,
     "metadata": {},
     "output_type": "execute_result"
    },
    {
     "data": {
      "image/png": "[encoded data removed]",
      "text/plain": [
       "<Figure size 720x360 with 1 Axes>"
      ]
     },
     "metadata": {},
     "output_type": "display_data"
    }
   ],
   "source": [
    "from yellowbrick.classifier import ConfusionMatrix\n",
    "\n",
    "plt.figure(figsize = (10, 5))\n",
    "\n",
    "cm_base_logreg = ConfusionMatrix(log_reg, classes = [0,1,2,3])\n",
    "cm_base_logreg.fit(X_train, y_train)\n",
    "\n",
    "cm_base_logreg.score(X_test, y_test)\n",
    "plt.xlabel('Prediction')\n",
    "plt.ylabel('Actual')\n",
    "plt.title('Confusion Matrix Logistic Regression Testing')"
   ]
  },
  {
   "cell_type": "code",
   "execution_count": 403,
   "metadata": {},
   "outputs": [],
   "source": [
    "cm_logreg_base = confusion_matrix(y_test, y_logreg_base, labels = [0,1,2,3])\n",
    "\n"
   ]
  },
  {
   "cell_type": "code",
   "execution_count": 404,
   "metadata": {},
   "outputs": [
    {
     "data": {
      "text/plain": [
       "<matplotlib.axes._subplots.AxesSubplot at 0x182fff74ee0>"
      ]
     },
     "execution_count": 404,
     "metadata": {},
     "output_type": "execute_result"
    },
    {
     "data": {
      "image/png": "[encoded data removed]",
      "text/plain": [
       "<Figure size 576x360 with 2 Axes>"
      ]
     },
     "metadata": {},
     "output_type": "display_data"
    }
   ],
   "source": [
    "df_logreg_base = pd.DataFrame(data = cm_logreg_base, index = ['aktual 0', 'aktual 1', 'aktual 2', 'aktual 3'], columns = ['prediksi 0', 'prediksi 1', 'prediksi 2', 'prediksi 3'])\n",
    "plt.figure(figsize = (8, 5))\n",
    "sns.heatmap(df_logreg_base, annot = True)"
   ]
  },
  {
   "cell_type": "markdown",
   "metadata": {},
   "source": [
    "### KNeighbors Classsifier"
   ]
  },
  {
   "cell_type": "code",
   "execution_count": 405,
   "metadata": {},
   "outputs": [],
   "source": [
    "KNN_base = KNeighborsClassifier()\n",
    "KNN_base.fit(X_train, y_train)\n",
    "y_KNN_base = KNN_base.predict(X_test)"
   ]
  },
  {
   "cell_type": "code",
   "execution_count": 406,
   "metadata": {},
   "outputs": [
    {
     "name": "stdout",
     "output_type": "stream",
     "text": [
      "train accuracy KNN base:  0.938125\n",
      "test accuracy KNN base:  0.925\n"
     ]
    }
   ],
   "source": [
    "# training and testing score \n",
    "KNN_base_train = KNN_base.score(X_train, y_train)\n",
    "\n",
    "print('train accuracy KNN base: ', KNN_base.score(X_train, y_train))\n",
    "print('test accuracy KNN base: ', KNN_base.score(X_test, y_test))"
   ]
  },
  {
   "cell_type": "code",
   "execution_count": 407,
   "metadata": {},
   "outputs": [
    {
     "name": "stdout",
     "output_type": "stream",
     "text": [
      "              precision    recall  f1-score   support\n",
      "\n",
      "           0       0.96      0.99      0.98       100\n",
      "           1       0.91      0.91      0.91       100\n",
      "           2       0.88      0.87      0.87       100\n",
      "           3       0.95      0.93      0.94       100\n",
      "\n",
      "    accuracy                           0.93       400\n",
      "   macro avg       0.92      0.93      0.92       400\n",
      "weighted avg       0.92      0.93      0.92       400\n",
      "\n"
     ]
    }
   ],
   "source": [
    "acc_base_KNN = accuracy_score(y_test, y_KNN_base)\n",
    "recall_base_KNN = recall_score(y_test, y_KNN_base, average = None)\n",
    "precision_base_KNN = precision_score(y_test, y_KNN_base, average = None)\n",
    "f1_base_KNN = f1_score(y_test, y_KNN_base, average = None)\n",
    "\n",
    "print(classification_report(y_test, y_KNN_base))"
   ]
  },
  {
   "cell_type": "code",
   "execution_count": 408,
   "metadata": {},
   "outputs": [
    {
     "data": {
      "image/png": "[encoded data removed]",
      "text/plain": [
       "<Figure size 576x396 with 1 Axes>"
      ]
     },
     "metadata": {},
     "output_type": "display_data"
    }
   ],
   "source": [
    "cm_base_KNN = ConfusionMatrix(KNN_base, classes = [0,1,2,3])\n",
    "cm_base_KNN.fit(X_train, y_train)\n",
    "\n",
    "cm_base_KNN.score(X_test, y_test)\n",
    "plt.xlabel('Prediction')\n",
    "plt.ylabel('Actual')\n",
    "plt.title('Confusion Matrix KNN Testing')\n",
    "plt.show()"
   ]
  },
  {
   "cell_type": "markdown",
   "metadata": {},
   "source": [
    "### SVC"
   ]
  },
  {
   "cell_type": "code",
   "execution_count": 409,
   "metadata": {},
   "outputs": [],
   "source": [
    "SVC_base = SVC()\n",
    "SVC_base.fit(X_train, y_train)\n",
    "y_SVC_base = SVC_base.predict(X_test)"
   ]
  },
  {
   "cell_type": "code",
   "execution_count": 410,
   "metadata": {},
   "outputs": [
    {
     "name": "stdout",
     "output_type": "stream",
     "text": [
      "train accuracy SVC base:  0.9275\n",
      "test accuracy SVC base:  0.94\n"
     ]
    }
   ],
   "source": [
    "SVC_base_train = SVC_base.score(X_train, y_train)\n",
    "\n",
    "print('train accuracy SVC base: ', SVC_base.score(X_train, y_train))\n",
    "print('test accuracy SVC base: ', SVC_base.score(X_test, y_test))"
   ]
  },
  {
   "cell_type": "code",
   "execution_count": 411,
   "metadata": {},
   "outputs": [
    {
     "name": "stdout",
     "output_type": "stream",
     "text": [
      "              precision    recall  f1-score   support\n",
      "\n",
      "           0       0.97      0.98      0.98       100\n",
      "           1       0.91      0.94      0.93       100\n",
      "           2       0.94      0.87      0.90       100\n",
      "           3       0.94      0.97      0.96       100\n",
      "\n",
      "    accuracy                           0.94       400\n",
      "   macro avg       0.94      0.94      0.94       400\n",
      "weighted avg       0.94      0.94      0.94       400\n",
      "\n"
     ]
    }
   ],
   "source": [
    "acc_base_SVC = accuracy_score(y_test, y_SVC_base)\n",
    "recall_base_SVC = recall_score(y_test, y_SVC_base, average = None)\n",
    "precision_base_SVC = precision_score(y_test, y_SVC_base, average = None)\n",
    "f1_base_SVC = f1_score(y_test, y_SVC_base, average = None)\n",
    "\n",
    "print(classification_report(y_test, y_SVC_base))"
   ]
  },
  {
   "cell_type": "code",
   "execution_count": 412,
   "metadata": {},
   "outputs": [
    {
     "data": {
      "image/png": "[encoded data removed]",
      "text/plain": [
       "<Figure size 576x396 with 1 Axes>"
      ]
     },
     "metadata": {},
     "output_type": "display_data"
    }
   ],
   "source": [
    "cm_base_SVC = ConfusionMatrix(SVC_base, classes = [0,1,2,3])\n",
    "cm_base_SVC.fit(X_train, y_train)\n",
    "\n",
    "cm_base_SVC.score(X_test, y_test)\n",
    "plt.xlabel('Prediction')\n",
    "plt.ylabel('Actual')\n",
    "plt.title('Confusion Matrix SVC Testing')\n",
    "plt.show()"
   ]
  },
  {
   "cell_type": "markdown",
   "metadata": {},
   "source": [
    "### Decision Tree"
   ]
  },
  {
   "cell_type": "code",
   "execution_count": 413,
   "metadata": {},
   "outputs": [],
   "source": [
    "DT_base = DecisionTreeClassifier()\n",
    "DT_base.fit(X_train, y_train)\n",
    "y_DT_base = DT_base.predict(X_test)"
   ]
  },
  {
   "cell_type": "code",
   "execution_count": 414,
   "metadata": {},
   "outputs": [
    {
     "name": "stdout",
     "output_type": "stream",
     "text": [
      "train accuracy Decision Tree base:  1.0\n",
      "test accuracy Decision Tree base:  0.8675\n"
     ]
    }
   ],
   "source": [
    "DT_base_train = DT_base.score(X_train, y_train)\n",
    "\n",
    "print('train accuracy Decision Tree base: ', DT_base.score(X_train, y_train))\n",
    "print('test accuracy Decision Tree base: ', DT_base.score(X_test, y_test))\n",
    "\n",
    "# we can clearly see that this model is overfitting looking at the difference from the training and test"
   ]
  },
  {
   "cell_type": "code",
   "execution_count": 415,
   "metadata": {},
   "outputs": [
    {
     "name": "stdout",
     "output_type": "stream",
     "text": [
      "              precision    recall  f1-score   support\n",
      "\n",
      "           0       0.92      0.94      0.93       100\n",
      "           1       0.83      0.80      0.82       100\n",
      "           2       0.79      0.83      0.81       100\n",
      "           3       0.93      0.90      0.91       100\n",
      "\n",
      "    accuracy                           0.87       400\n",
      "   macro avg       0.87      0.87      0.87       400\n",
      "weighted avg       0.87      0.87      0.87       400\n",
      "\n"
     ]
    }
   ],
   "source": [
    "acc_base_DT = accuracy_score(y_test, y_DT_base)\n",
    "recall_base_DT = recall_score(y_test, y_DT_base, average = None)\n",
    "precision_base_DT = precision_score(y_test, y_DT_base, average = None)\n",
    "f1_base_DT = f1_score(y_test, y_DT_base, average = None)\n",
    "\n",
    "print(classification_report(y_test, y_DT_base))"
   ]
  },
  {
   "cell_type": "code",
   "execution_count": 416,
   "metadata": {},
   "outputs": [
    {
     "data": {
      "image/png": "[encoded data removed]",
      "text/plain": [
       "<Figure size 576x396 with 1 Axes>"
      ]
     },
     "metadata": {},
     "output_type": "display_data"
    }
   ],
   "source": [
    "cm_base_DT = ConfusionMatrix(DT_base, classes = [0,1,2,3])\n",
    "cm_base_DT.fit(X_train, y_train)\n",
    "\n",
    "cm_base_DT.score(X_test, y_test)\n",
    "plt.xlabel('Prediction')\n",
    "plt.ylabel('Actual')\n",
    "plt.title('Confusion Matrix DT Testing')\n",
    "plt.show()"
   ]
  },
  {
   "cell_type": "markdown",
   "metadata": {},
   "source": [
    "### Random Forest"
   ]
  },
  {
   "cell_type": "code",
   "execution_count": 417,
   "metadata": {},
   "outputs": [],
   "source": [
    "RF_base = RandomForestClassifier()\n",
    "RF_base.fit(X_train, y_train)\n",
    "y_RF_base = RF_base.predict(X_test)\n",
    "\n"
   ]
  },
  {
   "cell_type": "code",
   "execution_count": 418,
   "metadata": {},
   "outputs": [
    {
     "name": "stdout",
     "output_type": "stream",
     "text": [
      "train accuracy Random Forest base:  1.0\n",
      "test accuracy Random Forest base:  0.945\n"
     ]
    }
   ],
   "source": [
    "RF_base_train = RF_base.score(X_train, y_train)\n",
    "\n",
    "print('train accuracy Random Forest base: ', RF_base.score(X_train, y_train))\n",
    "print('test accuracy Random Forest base: ', RF_base.score(X_test, y_test))\n",
    "\n",
    "# we can see that this algorithm has an overfitting problem as well"
   ]
  },
  {
   "cell_type": "code",
   "execution_count": 419,
   "metadata": {},
   "outputs": [
    {
     "name": "stdout",
     "output_type": "stream",
     "text": [
      "              precision    recall  f1-score   support\n",
      "\n",
      "           0       0.96      1.00      0.98       100\n",
      "           1       0.97      0.89      0.93       100\n",
      "           2       0.88      0.95      0.91       100\n",
      "           3       0.98      0.94      0.96       100\n",
      "\n",
      "    accuracy                           0.94       400\n",
      "   macro avg       0.95      0.94      0.95       400\n",
      "weighted avg       0.95      0.94      0.95       400\n",
      "\n"
     ]
    }
   ],
   "source": [
    "acc_base_RF = accuracy_score(y_test, y_RF_base)\n",
    "recall_base_RF = recall_score(y_test, y_RF_base, average = None)\n",
    "precision_base_RF = precision_score(y_test, y_RF_base, average = None)\n",
    "f1_base_RF = f1_score(y_test, y_RF_base, average = None)\n",
    "\n",
    "print(classification_report(y_test, y_RF_base))"
   ]
  },
  {
   "cell_type": "code",
   "execution_count": 420,
   "metadata": {},
   "outputs": [
    {
     "data": {
      "image/png": "[encoded data removed]",
      "text/plain": [
       "<Figure size 576x396 with 1 Axes>"
      ]
     },
     "metadata": {},
     "output_type": "display_data"
    }
   ],
   "source": [
    "cm_base_RF = ConfusionMatrix(RF_base, classes = [0,1,2,3])\n",
    "cm_base_RF.fit(X_train, y_train)\n",
    "\n",
    "cm_base_RF.score(X_test, y_test)\n",
    "plt.xlabel('Prediction')\n",
    "plt.ylabel('Actual')\n",
    "plt.title('Confusion Matrix Random Forest Testing')\n",
    "plt.show()"
   ]
  },
  {
   "cell_type": "markdown",
   "metadata": {},
   "source": [
    "### XGB"
   ]
  },
  {
   "cell_type": "code",
   "execution_count": 421,
   "metadata": {},
   "outputs": [],
   "source": [
    "XGB_base = XGBClassifier()\n",
    "XGB_base.fit(X_train, y_train)\n",
    "y_XGB_base = XGB_base.predict(X_test)"
   ]
  },
  {
   "cell_type": "code",
   "execution_count": 422,
   "metadata": {},
   "outputs": [
    {
     "name": "stdout",
     "output_type": "stream",
     "text": [
      "train accuracy XGB base:  1.0\n",
      "test accuracy XGB base:  0.9525\n"
     ]
    }
   ],
   "source": [
    "XGB_base_train = XGB_base.score(X_train, y_train)\n",
    "\n",
    "print('train accuracy XGB base: ', XGB_base.score(X_train, y_train))\n",
    "print('test accuracy XGB base: ', XGB_base.score(X_test, y_test))"
   ]
  },
  {
   "cell_type": "code",
   "execution_count": 423,
   "metadata": {},
   "outputs": [
    {
     "name": "stdout",
     "output_type": "stream",
     "text": [
      "              precision    recall  f1-score   support\n",
      "\n",
      "           0       0.96      1.00      0.98       100\n",
      "           1       0.96      0.93      0.94       100\n",
      "           2       0.92      0.93      0.93       100\n",
      "           3       0.97      0.95      0.96       100\n",
      "\n",
      "    accuracy                           0.95       400\n",
      "   macro avg       0.95      0.95      0.95       400\n",
      "weighted avg       0.95      0.95      0.95       400\n",
      "\n"
     ]
    }
   ],
   "source": [
    "acc_base_XGB = accuracy_score(y_test, y_XGB_base)\n",
    "recall_base_XGB = recall_score(y_test, y_XGB_base, average = None)\n",
    "precision_base_XGB = precision_score(y_test, y_XGB_base, average = None)\n",
    "f1_base_XGB = f1_score(y_test, y_XGB_base, average = None)\n",
    "\n",
    "print(classification_report(y_test, y_XGB_base))"
   ]
  },
  {
   "cell_type": "code",
   "execution_count": 424,
   "metadata": {},
   "outputs": [
    {
     "data": {
      "image/png": "[encoded data removed]",
      "text/plain": [
       "<Figure size 576x396 with 1 Axes>"
      ]
     },
     "metadata": {},
     "output_type": "display_data"
    }
   ],
   "source": [
    "cm_base_XGB = ConfusionMatrix(XGB_base, classes = [0,1,2,3])\n",
    "cm_base_XGB.fit(X_train, y_train)\n",
    "\n",
    "cm_base_XGB.score(X_test, y_test)\n",
    "plt.xlabel('Prediction')\n",
    "plt.ylabel('Actual')\n",
    "plt.title('Confusion Matrix XGB Testing')\n",
    "plt.show()"
   ]
  },
  {
   "cell_type": "markdown",
   "metadata": {},
   "source": [
    "## Evaluation Matrix"
   ]
  },
  {
   "cell_type": "code",
   "execution_count": 425,
   "metadata": {},
   "outputs": [],
   "source": [
    "cm_logreg_base = confusion_matrix(y_test, y_logreg_base, labels = [0,1,2,3])\n",
    "cm_KNN_base = confusion_matrix(y_test, y_KNN_base, labels = [0,1,2,3])\n",
    "cm_SVC_base = confusion_matrix(y_test, y_SVC_base, labels = [0,1,2,3])\n",
    "cm_DT_base = confusion_matrix(y_test, y_DT_base, labels = [0,1,2,3])\n",
    "cm_RF_base = confusion_matrix(y_test, y_RF_base, labels = [0,1,2,3])\n",
    "cm_XGB_base = confusion_matrix(y_test, y_XGB_base, labels = [0,1,2,3])\n",
    "\n",
    "\n",
    "\n",
    "\n",
    "df_logreg_base = pd.DataFrame(data = cm_logreg_base, index = ['aktual 0', 'aktual 1', 'aktual 2', 'aktual 3'], columns = ['prediksi 0', 'prediksi 1', 'prediksi 2', 'prediksi 3'])\n",
    "df_KNN_base = pd.DataFrame(data = cm_KNN_base, index = ['aktual 0', 'aktual 1', 'aktual 2', 'aktual 3'], columns = ['prediksi 0', 'prediksi 1', 'prediksi 2', 'prediksi 3'])\n",
    "df_SVC_base = pd.DataFrame(data = cm_SVC_base, index = ['aktual 0', 'aktual 1', 'aktual 2', 'aktual 3'], columns = ['prediksi 0', 'prediksi 1', 'prediksi 2', 'prediksi 3'])\n",
    "df_DT_base = pd.DataFrame(data = cm_DT_base, index = ['aktual 0', 'aktual 1', 'aktual 2', 'aktual 3'], columns = ['prediksi 0', 'prediksi 1', 'prediksi 2', 'prediksi 3'])\n",
    "df_RF_base = pd.DataFrame(data = cm_RF_base, index = ['aktual 0', 'aktual 1', 'aktual 2', 'aktual 3'], columns = ['prediksi 0', 'prediksi 1', 'prediksi 2', 'prediksi 3'])\n",
    "df_XGB_base = pd.DataFrame(data = cm_XGB_base, index = ['aktual 0', 'aktual 1', 'aktual 2', 'aktual 3'], columns = ['prediksi 0', 'prediksi 1', 'prediksi 2', 'prediksi 3'])\n",
    "\n"
   ]
  },
  {
   "cell_type": "code",
   "execution_count": 426,
   "metadata": {},
   "outputs": [
    {
     "data": {
      "text/html": [
       "<div>\n",
       "<style scoped>\n",
       "    .dataframe tbody tr th:only-of-type {\n",
       "        vertical-align: middle;\n",
       "    }\n",
       "\n",
       "    .dataframe tbody tr th {\n",
       "        vertical-align: top;\n",
       "    }\n",
       "\n",
       "    .dataframe thead th {\n",
       "        text-align: right;\n",
       "    }\n",
       "</style>\n",
       "<table border=\"1\" class=\"dataframe\">\n",
       "  <thead>\n",
       "    <tr style=\"text-align: right;\">\n",
       "      <th></th>\n",
       "      <th>Training</th>\n",
       "      <th>Testing</th>\n",
       "    </tr>\n",
       "  </thead>\n",
       "  <tbody>\n",
       "    <tr>\n",
       "      <th>Logistic Regression</th>\n",
       "      <td>0.544375</td>\n",
       "      <td>0.5350</td>\n",
       "    </tr>\n",
       "    <tr>\n",
       "      <th>KNN</th>\n",
       "      <td>0.938125</td>\n",
       "      <td>0.9250</td>\n",
       "    </tr>\n",
       "    <tr>\n",
       "      <th>SVC</th>\n",
       "      <td>0.927500</td>\n",
       "      <td>0.9400</td>\n",
       "    </tr>\n",
       "    <tr>\n",
       "      <th>Decision Tree</th>\n",
       "      <td>1.000000</td>\n",
       "      <td>0.8675</td>\n",
       "    </tr>\n",
       "    <tr>\n",
       "      <th>Random Forest</th>\n",
       "      <td>1.000000</td>\n",
       "      <td>0.9450</td>\n",
       "    </tr>\n",
       "    <tr>\n",
       "      <th>Xtreme Gradient Boost</th>\n",
       "      <td>1.000000</td>\n",
       "      <td>0.9525</td>\n",
       "    </tr>\n",
       "  </tbody>\n",
       "</table>\n",
       "</div>"
      ],
      "text/plain": [
       "                       Training  Testing\n",
       "Logistic Regression    0.544375   0.5350\n",
       "KNN                    0.938125   0.9250\n",
       "SVC                    0.927500   0.9400\n",
       "Decision Tree          1.000000   0.8675\n",
       "Random Forest          1.000000   0.9450\n",
       "Xtreme Gradient Boost  1.000000   0.9525"
      ]
     },
     "execution_count": 426,
     "metadata": {},
     "output_type": "execute_result"
    }
   ],
   "source": [
    "evaluation_matrix_base = {'Training': [logreg_base_train, KNN_base_train,SVC_base_train,DT_base_train, RF_base_train,XGB_base_train],\n",
    "                         'Testing':[acc_base_logreg, acc_base_KNN,acc_base_SVC,acc_base_DT,acc_base_RF,acc_base_XGB]}\n",
    "\n",
    "eva_base = pd.DataFrame(data = evaluation_matrix_base, index = ['Logistic Regression', 'KNN', 'SVC', 'Decision Tree', 'Random Forest', 'Xtreme Gradient Boost'])\n",
    "eva_base\n",
    "\n",
    "# we can see from here that SVC has the best base model among all algortihm\n",
    "# and from the base model there are 3 overfitting case in Decision Tree, Random Forest, and XGB\n",
    "# among all the base model algorithm logistic regression has the worst performance \n",
    "# predicting the base model "
   ]
  },
  {
   "cell_type": "code",
   "execution_count": 427,
   "metadata": {},
   "outputs": [
    {
     "data": {
      "image/png": "[encoded data removed]",
      "text/plain": [
       "<Figure size 1440x1080 with 12 Axes>"
      ]
     },
     "metadata": {},
     "output_type": "display_data"
    }
   ],
   "source": [
    "plt.figure(figsize = (20, 15))\n",
    "\n",
    "plt.subplot(3,2,1)\n",
    "sns.heatmap(df_logreg_base, annot = True)\n",
    "plt.title('Logistic Regression')\n",
    "\n",
    "\n",
    "plt.subplot(3,2,2)\n",
    "sns.heatmap(df_KNN_base, annot = True)\n",
    "plt.title('KNN')\n",
    "\n",
    "plt.subplot(3,2,3)\n",
    "sns.heatmap(df_SVC_base, annot = True)\n",
    "plt.title('SVC')\n",
    "\n",
    "plt.subplot(3,2,4)\n",
    "sns.heatmap(df_DT_base, annot = True)\n",
    "plt.title('Decision Tree')\n",
    "\n",
    "plt.subplot(3,2,5)\n",
    "sns.heatmap(df_RF_base, annot = True)\n",
    "plt.title('Random Forest')\n",
    "\n",
    "\n",
    "plt.subplot(3,2,6)\n",
    "sns.heatmap(df_XGB_base, annot = True)\n",
    "plt.title('XGB')\n",
    "\n",
    "plt.show()"
   ]
  },
  {
   "cell_type": "markdown",
   "metadata": {},
   "source": [
    "## Scaling"
   ]
  },
  {
   "cell_type": "code",
   "execution_count": 428,
   "metadata": {},
   "outputs": [],
   "source": [
    "from sklearn.preprocessing import MinMaxScaler, RobustScaler, StandardScaler"
   ]
  },
  {
   "cell_type": "code",
   "execution_count": 454,
   "metadata": {},
   "outputs": [],
   "source": [
    "#scalling\n",
    "minmax_scaler = MinMaxScaler()\n",
    "X_train_scaled = minmax_scaler.fit_transform(X_train)\n",
    "X_test_scaled = minmax_scaler.fit_transform(X_test)\n",
    "\n",
    "# since there's a little amount of outliers we're going to use minmax scaler\n",
    "# we scaled the train and the test value "
   ]
  },
  {
   "cell_type": "code",
   "execution_count": 455,
   "metadata": {},
   "outputs": [],
   "source": [
    "logreg_scaled = LogisticRegression()\n",
    "logreg_scaled.fit(X_train_scaled, y_train)\n",
    "y_logreg_scaled = logreg_scaled.predict(X_test_scaled)"
   ]
  },
  {
   "cell_type": "code",
   "execution_count": 456,
   "metadata": {},
   "outputs": [
    {
     "name": "stdout",
     "output_type": "stream",
     "text": [
      "train accuracy Logistic Regression Scaled:  0.909375\n",
      "test accuracy Logistic Regression Scaled:  0.935\n"
     ]
    }
   ],
   "source": [
    "logreg_scaled_train = logreg_scaled.score(X_train_scaled, y_train)\n",
    "print('train accuracy Logistic Regression Scaled: ', logreg_scaled.score(X_train_scaled, y_train))\n",
    "print('test accuracy Logistic Regression Scaled: ', logreg_scaled.score(X_test_scaled, y_test))\n",
    "\n",
    "# wow looking at this logistic regression evaluation matrix jump up about 0.4 from base to scaled model\n"
   ]
  },
  {
   "cell_type": "code",
   "execution_count": 457,
   "metadata": {},
   "outputs": [
    {
     "name": "stdout",
     "output_type": "stream",
     "text": [
      "              precision    recall  f1-score   support\n",
      "\n",
      "           0       0.94      0.99      0.97       100\n",
      "           1       0.93      0.91      0.92       100\n",
      "           2       0.93      0.88      0.90       100\n",
      "           3       0.94      0.96      0.95       100\n",
      "\n",
      "    accuracy                           0.94       400\n",
      "   macro avg       0.93      0.93      0.93       400\n",
      "weighted avg       0.93      0.94      0.93       400\n",
      "\n"
     ]
    }
   ],
   "source": [
    "acc_scaled_logreg = accuracy_score(y_test, y_logreg_scaled)\n",
    "recall_scaled_logreg = recall_score(y_test, y_logreg_scaled, average = None)\n",
    "precision_scaled_logreg = precision_score(y_test, y_logreg_scaled, average = None)\n",
    "f1_scaled_logreg = f1_score(y_test, y_logreg_scaled, average = None)\n",
    "\n",
    "print(classification_report(y_test, y_logreg_scaled))"
   ]
  },
  {
   "cell_type": "code",
   "execution_count": 458,
   "metadata": {},
   "outputs": [
    {
     "data": {
      "image/png": "[encoded data removed]",
      "text/plain": [
       "<Figure size 576x396 with 1 Axes>"
      ]
     },
     "metadata": {},
     "output_type": "display_data"
    }
   ],
   "source": [
    "cm_scaled_logreg = ConfusionMatrix(logreg_scaled, classes = [0,1,2,3])\n",
    "cm_scaled_logreg.fit(X_train_scaled, y_train)\n",
    "\n",
    "cm_scaled_logreg.score(X_test_scaled, y_test)\n",
    "plt.xlabel('Prediction')\n",
    "plt.ylabel('Actual')\n",
    "plt.title('Confusion Matrix logrec scaledTesting')\n",
    "plt.show()"
   ]
  },
  {
   "cell_type": "markdown",
   "metadata": {},
   "source": [
    "### KNN Scaled"
   ]
  },
  {
   "cell_type": "code",
   "execution_count": 459,
   "metadata": {},
   "outputs": [],
   "source": [
    "KNN_scaled = KNeighborsClassifier()\n",
    "KNN_scaled.fit(X_train_scaled, y_train)\n",
    "y_KNN_scaled = KNN_scaled.predict(X_test_scaled)"
   ]
  },
  {
   "cell_type": "code",
   "execution_count": 460,
   "metadata": {},
   "outputs": [
    {
     "name": "stdout",
     "output_type": "stream",
     "text": [
      "train accuracy KNN Scaled:  0.891875\n",
      "test accuracy KNN Scaled:  0.8475\n"
     ]
    }
   ],
   "source": [
    "KNN_scaled_train = KNN_scaled.score(X_train_scaled, y_train)\n",
    "print('train accuracy KNN Scaled: ', KNN_scaled.score(X_train_scaled, y_train))\n",
    "print('test accuracy KNN Scaled: ', KNN_scaled.score(X_test_scaled, y_test))\n",
    "\n",
    "# after the scaling KNN accuracy become lower and it become overfit"
   ]
  },
  {
   "cell_type": "code",
   "execution_count": 468,
   "metadata": {},
   "outputs": [
    {
     "name": "stdout",
     "output_type": "stream",
     "text": [
      "              precision    recall  f1-score   support\n",
      "\n",
      "           0       0.93      0.93      0.93       100\n",
      "           1       0.76      0.79      0.77       100\n",
      "           2       0.76      0.77      0.77       100\n",
      "           3       0.95      0.90      0.92       100\n",
      "\n",
      "    accuracy                           0.85       400\n",
      "   macro avg       0.85      0.85      0.85       400\n",
      "weighted avg       0.85      0.85      0.85       400\n",
      "\n"
     ]
    }
   ],
   "source": [
    "acc_scaled_KNN = accuracy_score(y_test, y_KNN_scaled)\n",
    "recall_scaled_KNN = recall_score(y_test, y_KNN_scaled, average = None)\n",
    "precision_scaled_KNN = precision_score(y_test, y_KNN_scaled, average = None)\n",
    "f1_scaled_KNN = f1_score(y_test, y_KNN_scaled, average = None)\n",
    "\n",
    "print(classification_report(y_test, y_KNN_scaled))"
   ]
  },
  {
   "cell_type": "code",
   "execution_count": 463,
   "metadata": {},
   "outputs": [
    {
     "data": {
      "image/png": "[encoded data removed]",
      "text/plain": [
       "<Figure size 576x396 with 1 Axes>"
      ]
     },
     "metadata": {},
     "output_type": "display_data"
    }
   ],
   "source": [
    "cm_scaled_KNN = ConfusionMatrix(KNN_scaled, classes = [0,1,2,3])\n",
    "cm_scaled_KNN.fit(X_train_scaled, y_train)\n",
    "\n",
    "cm_scaled_KNN.score(X_test_scaled, y_test)\n",
    "plt.xlabel('Prediction')\n",
    "plt.ylabel('Actual')\n",
    "plt.title('Confusion Matrix KNN scaled Testing')\n",
    "plt.show()"
   ]
  },
  {
   "cell_type": "markdown",
   "metadata": {},
   "source": [
    "### SVC Scaled"
   ]
  },
  {
   "cell_type": "code",
   "execution_count": 465,
   "metadata": {},
   "outputs": [],
   "source": [
    "SVC_scaled = SVC()\n",
    "SVC_scaled.fit(X_train_scaled, y_train)\n",
    "y_SVC_scaled = SVC_scaled.predict(X_test_scaled)"
   ]
  },
  {
   "cell_type": "code",
   "execution_count": 466,
   "metadata": {},
   "outputs": [
    {
     "name": "stdout",
     "output_type": "stream",
     "text": [
      "train accuracy KNN Scaled:  0.93125\n",
      "test accuracy KNN Scaled:  0.9275\n"
     ]
    }
   ],
   "source": [
    "SVC_scaled_train = SVC_scaled.score(X_train_scaled, y_train)\n",
    "print('train accuracy SVC Scaled: ', SVC_scaled.score(X_train_scaled, y_train))\n",
    "print('test accuracy SVC Scaled: ', SVC_scaled.score(X_test_scaled, y_test))\n",
    "\n",
    "# svc evaluation matrix goes sligthly lower after scalling "
   ]
  },
  {
   "cell_type": "code",
   "execution_count": 467,
   "metadata": {},
   "outputs": [
    {
     "name": "stdout",
     "output_type": "stream",
     "text": [
      "              precision    recall  f1-score   support\n",
      "\n",
      "           0       0.96      0.96      0.96       100\n",
      "           1       0.89      0.93      0.91       100\n",
      "           2       0.91      0.88      0.89       100\n",
      "           3       0.95      0.94      0.94       100\n",
      "\n",
      "    accuracy                           0.93       400\n",
      "   macro avg       0.93      0.93      0.93       400\n",
      "weighted avg       0.93      0.93      0.93       400\n",
      "\n"
     ]
    }
   ],
   "source": [
    "acc_scaled_SVC = accuracy_score(y_test, y_SVC_scaled)\n",
    "recall_scaled_SVC = recall_score(y_test, y_SVC_scaled, average = None)\n",
    "precision_scaled_SVC = precision_score(y_test, y_SVC_scaled, average = None)\n",
    "f1_scaled_SVC = f1_score(y_test, y_SVC_scaled, average = None)\n",
    "\n",
    "print(classification_report(y_test, y_SVC_scaled))"
   ]
  },
  {
   "cell_type": "code",
   "execution_count": 469,
   "metadata": {},
   "outputs": [
    {
     "data": {
      "image/png": "[encoded data removed]",
      "text/plain": [
       "<Figure size 576x396 with 1 Axes>"
      ]
     },
     "metadata": {},
     "output_type": "display_data"
    }
   ],
   "source": [
    "cm_scaled_SVC = ConfusionMatrix(SVC_scaled, classes = [0,1,2,3])\n",
    "cm_scaled_SVC.fit(X_train_scaled, y_train)\n",
    "\n",
    "cm_scaled_SVC.score(X_test_scaled, y_test)\n",
    "plt.xlabel('Prediction')\n",
    "plt.ylabel('Actual')\n",
    "plt.title('Confusion Matrix SVC scaled Testing')\n",
    "plt.show()\n",
    "\n",
    "# note we don't scale tree based algorithm since it doesn't required to be scaled"
   ]
  },
  {
   "cell_type": "code",
   "execution_count": 492,
   "metadata": {},
   "outputs": [],
   "source": [
    "from sklearn.preprocessing import PolynomialFeatures\n",
    "\n",
    "poly = PolynomialFeatures(degree = 2).fit(X_train_scaled)\n",
    "X_train_poly = poly.transform(X_train_scaled)\n",
    "X_test_poly = poly.transform(X_test_scaled)\n",
    "logreg_poly = LogisticRegression()\n",
    "logreg_poly.fit(X_train_poly, y_train)\n",
    "y_logreg_poly = logreg_poly.predict(X_test_poly)"
   ]
  },
  {
   "cell_type": "code",
   "execution_count": 498,
   "metadata": {},
   "outputs": [
    {
     "name": "stdout",
     "output_type": "stream",
     "text": [
      "train accuracy logreg poly Scaled:  0.9275\n",
      "test accuracy logreg poly Scaled:  0.95\n"
     ]
    }
   ],
   "source": [
    "logreg_poly_train = logreg_poly.score(X_train_poly, y_train)\n",
    "print('train accuracy logreg poly Scaled: ', logreg_poly.score(X_train_poly, y_train))\n",
    "print('test accuracy logreg poly Scaled: ', logreg_poly.score(X_test_poly, y_test))\n",
    "\n",
    "# there's a slight increase in test accuracy score of logistic regression after polynomial  degree 2"
   ]
  },
  {
   "cell_type": "code",
   "execution_count": 494,
   "metadata": {},
   "outputs": [
    {
     "name": "stdout",
     "output_type": "stream",
     "text": [
      "              precision    recall  f1-score   support\n",
      "\n",
      "           0       0.97      0.99      0.98       100\n",
      "           1       0.95      0.94      0.94       100\n",
      "           2       0.92      0.92      0.92       100\n",
      "           3       0.96      0.95      0.95       100\n",
      "\n",
      "    accuracy                           0.95       400\n",
      "   macro avg       0.95      0.95      0.95       400\n",
      "weighted avg       0.95      0.95      0.95       400\n",
      "\n"
     ]
    }
   ],
   "source": [
    "acc_poly_logreg = accuracy_score(y_test, y_logreg_poly)\n",
    "recall_poly_logreg = recall_score(y_test, y_logreg_poly, average = None)\n",
    "precision_poly_logreg = precision_score(y_test, y_logreg_poly, average = None)\n",
    "f1_poly_logreg = f1_score(y_test, y_logreg_poly, average = None)\n",
    "\n",
    "print(classification_report(y_test, y_logreg_poly))"
   ]
  },
  {
   "cell_type": "code",
   "execution_count": 496,
   "metadata": {},
   "outputs": [
    {
     "data": {
      "image/png": "[encoded data removed]",
      "text/plain": [
       "<Figure size 576x396 with 1 Axes>"
      ]
     },
     "metadata": {},
     "output_type": "display_data"
    }
   ],
   "source": [
    "cm_poly_logreg = ConfusionMatrix(logreg_poly, classes = [0,1,2,3])\n",
    "cm_poly_logreg.fit(X_train_poly, y_train)\n",
    "\n",
    "cm_poly_logreg.score(X_test_poly, y_test)\n",
    "plt.xlabel('Prediction')\n",
    "plt.ylabel('Actual')\n",
    "plt.title('Confusion Matrix logrec scaled poly Test')\n",
    "plt.show()"
   ]
  },
  {
   "cell_type": "code",
   "execution_count": 501,
   "metadata": {},
   "outputs": [
    {
     "data": {
      "text/html": [
       "<div>\n",
       "<style scoped>\n",
       "    .dataframe tbody tr th:only-of-type {\n",
       "        vertical-align: middle;\n",
       "    }\n",
       "\n",
       "    .dataframe tbody tr th {\n",
       "        vertical-align: top;\n",
       "    }\n",
       "\n",
       "    .dataframe thead th {\n",
       "        text-align: right;\n",
       "    }\n",
       "</style>\n",
       "<table border=\"1\" class=\"dataframe\">\n",
       "  <thead>\n",
       "    <tr style=\"text-align: right;\">\n",
       "      <th></th>\n",
       "      <th>Training</th>\n",
       "      <th>Testing</th>\n",
       "    </tr>\n",
       "  </thead>\n",
       "  <tbody>\n",
       "    <tr>\n",
       "      <th>Logistic Regression Scaled</th>\n",
       "      <td>0.909375</td>\n",
       "      <td>0.9350</td>\n",
       "    </tr>\n",
       "    <tr>\n",
       "      <th>KNN Scaled</th>\n",
       "      <td>0.891875</td>\n",
       "      <td>0.8475</td>\n",
       "    </tr>\n",
       "    <tr>\n",
       "      <th>SVC Scaled</th>\n",
       "      <td>0.931250</td>\n",
       "      <td>0.9275</td>\n",
       "    </tr>\n",
       "    <tr>\n",
       "      <th>Linreg Scaled Poly</th>\n",
       "      <td>0.927500</td>\n",
       "      <td>0.9500</td>\n",
       "    </tr>\n",
       "  </tbody>\n",
       "</table>\n",
       "</div>"
      ],
      "text/plain": [
       "                            Training  Testing\n",
       "Logistic Regression Scaled  0.909375   0.9350\n",
       "KNN Scaled                  0.891875   0.8475\n",
       "SVC Scaled                  0.931250   0.9275\n",
       "Linreg Scaled Poly          0.927500   0.9500"
      ]
     },
     "execution_count": 501,
     "metadata": {},
     "output_type": "execute_result"
    }
   ],
   "source": [
    "\n",
    "\n",
    "evaluation_matrix_featured = {'Training': [logreg_scaled_train, KNN_scaled_train,SVC_scaled_train,logreg_poly_train],\n",
    "                         'Testing':[acc_scaled_logreg, acc_scaled_KNN,acc_scaled_SVC,acc_poly_logreg]}\n",
    "\n",
    "eva_featured = pd.DataFrame(data = evaluation_matrix_featured, index = ['Logistic Regression Scaled', 'KNN Scaled', 'SVC Scaled', 'Linreg Scaled Poly'])\n",
    "eva_featured\n"
   ]
  },
  {
   "cell_type": "markdown",
   "metadata": {},
   "source": [
    "# HEATMAP PICTURE"
   ]
  },
  {
   "cell_type": "markdown",
   "metadata": {},
   "source": [
    "### HyperParameter Tuning\n",
    "\n",
    "\n",
    "#### Logistic Regression"
   ]
  },
  {
   "cell_type": "code",
   "execution_count": 503,
   "metadata": {},
   "outputs": [
    {
     "name": "stdout",
     "output_type": "stream",
     "text": [
      "Fitting 5 folds for each of 15 candidates, totalling 75 fits\n"
     ]
    },
    {
     "name": "stderr",
     "output_type": "stream",
     "text": [
      "[Parallel(n_jobs=-1)]: Using backend LokyBackend with 8 concurrent workers.\n",
      "[Parallel(n_jobs=-1)]: Done  34 tasks      | elapsed:    2.5s\n",
      "[Parallel(n_jobs=-1)]: Done  60 out of  75 | elapsed:    2.6s remaining:    0.6s\n",
      "[Parallel(n_jobs=-1)]: Done  75 out of  75 | elapsed:    2.8s finished\n"
     ]
    },
    {
     "data": {
      "text/plain": [
       "GridSearchCV(cv=5, estimator=LogisticRegression(), n_jobs=-1,\n",
       "             param_grid={'C': [1, 0.5, 0.1, 5, 9],\n",
       "                         'penalty': ['l2', 'l1', 'elasticnet']},\n",
       "             scoring='accuracy', verbose=1)"
      ]
     },
     "execution_count": 503,
     "metadata": {},
     "output_type": "execute_result"
    }
   ],
   "source": [
    "logreg_tuning = LogisticRegression()\n",
    "param_logreg = {'C': [1, 0.5, 0.1, 5, 9],\n",
    "               'penalty':['l2','l1', 'elasticnet']}\n",
    "\n",
    "model_logreg_tuned = GridSearchCV(estimator = logreg_tuning, param_grid = param_logreg, cv = 5, n_jobs = -1 , verbose = 1, scoring = 'accuracy')\n",
    "model_logreg_tuned.fit(X_train_scaled, y_train)"
   ]
  },
  {
   "cell_type": "code",
   "execution_count": 505,
   "metadata": {},
   "outputs": [],
   "source": [
    "logreg_tuned = model_logreg_tuned.best_estimator_\n",
    "y_tuned_logreg = logreg_tuned.predict(X_test_scaled)"
   ]
  },
  {
   "cell_type": "code",
   "execution_count": 519,
   "metadata": {},
   "outputs": [
    {
     "name": "stdout",
     "output_type": "stream",
     "text": [
      "train accuracy logreg tuned Scaled:  0.929375\n",
      "test accuracy logreg tuned Scaled:  0.9475\n"
     ]
    }
   ],
   "source": [
    "logreg_tuned_train = logreg_tuned.score(X_train_scaled, y_train)\n",
    "print('train accuracy logreg tuned Scaled: ', logreg_tuned.score(X_train_scaled, y_train))\n",
    "print('test accuracy logreg tuned Scaled: ', logreg_tuned.score(X_test_scaled, y_test))"
   ]
  },
  {
   "cell_type": "code",
   "execution_count": 509,
   "metadata": {},
   "outputs": [
    {
     "name": "stdout",
     "output_type": "stream",
     "text": [
      "              precision    recall  f1-score   support\n",
      "\n",
      "           0       0.99      0.98      0.98       100\n",
      "           1       0.93      0.95      0.94       100\n",
      "           2       0.93      0.89      0.91       100\n",
      "           3       0.94      0.97      0.96       100\n",
      "\n",
      "    accuracy                           0.95       400\n",
      "   macro avg       0.95      0.95      0.95       400\n",
      "weighted avg       0.95      0.95      0.95       400\n",
      "\n"
     ]
    }
   ],
   "source": [
    "acc_tuned_logreg = accuracy_score(y_test, y_tuned_logreg)\n",
    "\n",
    "print(classification_report(y_test, y_tuned_logreg))"
   ]
  },
  {
   "cell_type": "code",
   "execution_count": 511,
   "metadata": {},
   "outputs": [
    {
     "data": {
      "image/png": "[encoded data removed]",
      "text/plain": [
       "<Figure size 576x396 with 1 Axes>"
      ]
     },
     "metadata": {},
     "output_type": "display_data"
    }
   ],
   "source": [
    "cm_tuned_logreg = ConfusionMatrix(logreg_tuned, classes = [0,1,2,3])\n",
    "cm_tuned_logreg.fit(X_train_scaled, y_train)\n",
    "\n",
    "cm_tuned_logreg.score(X_test_scaled, y_test)\n",
    "plt.xlabel('Prediction')\n",
    "plt.ylabel('Actual')\n",
    "plt.title('Confusion Matrix logrec scaled tuned Test')\n",
    "plt.show()"
   ]
  },
  {
   "cell_type": "markdown",
   "metadata": {},
   "source": [
    "### Polynom Logreg Tuning\n"
   ]
  },
  {
   "cell_type": "code",
   "execution_count": 513,
   "metadata": {},
   "outputs": [
    {
     "name": "stdout",
     "output_type": "stream",
     "text": [
      "Fitting 5 folds for each of 15 candidates, totalling 75 fits\n"
     ]
    },
    {
     "name": "stderr",
     "output_type": "stream",
     "text": [
      "[Parallel(n_jobs=-1)]: Using backend LokyBackend with 8 concurrent workers.\n",
      "[Parallel(n_jobs=-1)]: Done  47 tasks      | elapsed:    0.4s\n",
      "[Parallel(n_jobs=-1)]: Done  60 out of  75 | elapsed:    0.5s remaining:    0.0s\n",
      "[Parallel(n_jobs=-1)]: Done  75 out of  75 | elapsed:    0.6s finished\n"
     ]
    },
    {
     "data": {
      "text/plain": [
       "GridSearchCV(cv=5, estimator=LogisticRegression(), n_jobs=-1,\n",
       "             param_grid={'C': [1, 0.5, 0.1, 5, 9],\n",
       "                         'penalty': ['l2', 'l1', 'elasticnet']},\n",
       "             scoring='accuracy', verbose=1)"
      ]
     },
     "execution_count": 513,
     "metadata": {},
     "output_type": "execute_result"
    }
   ],
   "source": [
    "logreg_tuning_poly = LogisticRegression()\n",
    "param_logreg_poly = {'C': [1, 0.5, 0.1, 5, 9],\n",
    "               'penalty':['l2','l1', 'elasticnet']}\n",
    "\n",
    "model_logreg_tuned_poly = GridSearchCV(estimator = logreg_tuning_poly, param_grid = param_logreg_poly, cv = 5, n_jobs = -1 , verbose = 1, scoring = 'accuracy')\n",
    "model_logreg_tuned_poly.fit(X_train_poly, y_train)"
   ]
  },
  {
   "cell_type": "code",
   "execution_count": 514,
   "metadata": {},
   "outputs": [],
   "source": [
    "logreg_tuned_poly = model_logreg_tuned_poly.best_estimator_\n",
    "y_tuned_logreg_poly = logreg_tuned_poly.predict(X_test_poly)"
   ]
  },
  {
   "cell_type": "code",
   "execution_count": 520,
   "metadata": {},
   "outputs": [
    {
     "name": "stdout",
     "output_type": "stream",
     "text": [
      "train accuracy logreg tuned Scaled:  0.934375\n",
      "test accuracy logreg tuned Scaled:  0.9475\n"
     ]
    }
   ],
   "source": [
    "logreg_tuned_train_poly = logreg_tuned_poly.score(X_train_poly, y_train)\n",
    "print('train accuracy logreg tuned Scaled: ', logreg_tuned_poly.score(X_train_poly, y_train))\n",
    "print('test accuracy logreg tuned Scaled: ', logreg_tuned_poly.score(X_test_poly, y_test))"
   ]
  },
  {
   "cell_type": "code",
   "execution_count": 521,
   "metadata": {},
   "outputs": [
    {
     "name": "stdout",
     "output_type": "stream",
     "text": [
      "              precision    recall  f1-score   support\n",
      "\n",
      "           0       0.99      0.98      0.98       100\n",
      "           1       0.92      0.95      0.94       100\n",
      "           2       0.92      0.90      0.91       100\n",
      "           3       0.96      0.96      0.96       100\n",
      "\n",
      "    accuracy                           0.95       400\n",
      "   macro avg       0.95      0.95      0.95       400\n",
      "weighted avg       0.95      0.95      0.95       400\n",
      "\n"
     ]
    }
   ],
   "source": [
    "acc_logreg_tuned_poly = accuracy_score(y_test, y_tuned_logreg_poly)\n",
    "\n",
    "print(classification_report(y_test, y_tuned_logreg_poly))"
   ]
  },
  {
   "cell_type": "code",
   "execution_count": 523,
   "metadata": {},
   "outputs": [
    {
     "data": {
      "image/png": "[encoded data removed]",
      "text/plain": [
       "<Figure size 576x396 with 1 Axes>"
      ]
     },
     "metadata": {},
     "output_type": "display_data"
    }
   ],
   "source": [
    "cm_tuned_logreg_poly = ConfusionMatrix(logreg_tuned_poly, classes = [0,1,2,3])\n",
    "cm_tuned_logreg_poly.fit(X_train_poly, y_train)\n",
    "\n",
    "cm_tuned_logreg_poly.score(X_test_poly, y_test)\n",
    "plt.xlabel('Prediction')\n",
    "plt.ylabel('Actual')\n",
    "plt.title('Confusion Matrix logreg tuned poly Test')\n",
    "plt.show()"
   ]
  },
  {
   "cell_type": "code",
   "execution_count": 590,
   "metadata": {},
   "outputs": [
    {
     "name": "stdout",
     "output_type": "stream",
     "text": [
      "Fitting 5 folds for each of 15 candidates, totalling 75 fits\n"
     ]
    },
    {
     "name": "stderr",
     "output_type": "stream",
     "text": [
      "[Parallel(n_jobs=-1)]: Using backend LokyBackend with 8 concurrent workers.\n",
      "[Parallel(n_jobs=-1)]: Done  34 tasks      | elapsed:    3.0s\n",
      "[Parallel(n_jobs=-1)]: Done  75 out of  75 | elapsed:    3.6s finished\n"
     ]
    },
    {
     "data": {
      "text/plain": [
       "GridSearchCV(cv=5, estimator=LogisticRegression(), n_jobs=-1,\n",
       "             param_grid={'C': [1, 0.5, 0.1, 5, 9],\n",
       "                         'penalty': ['l2', 'l1', 'elasticnet']},\n",
       "             scoring='accuracy', verbose=1)"
      ]
     },
     "execution_count": 590,
     "metadata": {},
     "output_type": "execute_result"
    }
   ],
   "source": [
    "logreg_tuning_base = LogisticRegression()\n",
    "param_logreg_base = {'C': [1, 0.5, 0.1, 5, 9],\n",
    "               'penalty':['l2','l1', 'elasticnet']}\n",
    "\n",
    "model_logreg_tuned_base = GridSearchCV(estimator = logreg_tuning_base, param_grid = param_logreg_base, cv = 5, n_jobs = -1 , verbose = 1, scoring = 'accuracy')\n",
    "model_logreg_tuned_base.fit(X_train, y_train)"
   ]
  },
  {
   "cell_type": "code",
   "execution_count": 591,
   "metadata": {},
   "outputs": [],
   "source": [
    "logreg_tuned_base = model_logreg_tuned_base.best_estimator_\n",
    "y_tuned_logreg_base = logreg_tuned_base.predict(X_test)"
   ]
  },
  {
   "cell_type": "code",
   "execution_count": 592,
   "metadata": {},
   "outputs": [
    {
     "name": "stdout",
     "output_type": "stream",
     "text": [
      "train accuracy logreg tuned Scaled:  0.544375\n",
      "test accuracy logreg tuned Scaled:  0.535\n"
     ]
    }
   ],
   "source": [
    "logreg_tuned_train_base = logreg_tuned_base.score(X_train, y_train)\n",
    "print('train accuracy logreg tuned Scaled: ', logreg_tuned_base.score(X_train, y_train))\n",
    "print('test accuracy logreg tuned Scaled: ', logreg_tuned_base.score(X_test, y_test))"
   ]
  },
  {
   "cell_type": "code",
   "execution_count": 593,
   "metadata": {},
   "outputs": [
    {
     "name": "stdout",
     "output_type": "stream",
     "text": [
      "              precision    recall  f1-score   support\n",
      "\n",
      "           0       0.78      0.75      0.77       100\n",
      "           1       0.44      0.42      0.43       100\n",
      "           2       0.32      0.21      0.25       100\n",
      "           3       0.53      0.76      0.63       100\n",
      "\n",
      "    accuracy                           0.54       400\n",
      "   macro avg       0.52      0.53      0.52       400\n",
      "weighted avg       0.52      0.54      0.52       400\n",
      "\n"
     ]
    }
   ],
   "source": [
    "acc_logreg_tuned_base = accuracy_score(y_test, y_tuned_logreg_base)\n",
    "\n",
    "print(classification_report(y_test, y_tuned_logreg_base))"
   ]
  },
  {
   "cell_type": "code",
   "execution_count": 595,
   "metadata": {},
   "outputs": [
    {
     "data": {
      "image/png": "[encoded data removed]",
      "text/plain": [
       "<Figure size 576x396 with 1 Axes>"
      ]
     },
     "metadata": {},
     "output_type": "display_data"
    }
   ],
   "source": [
    "cm_tuned_logreg_base = ConfusionMatrix(logreg_tuned_base, classes = [0,1,2,3])\n",
    "cm_tuned_logreg_base.fit(X_train, y_train)\n",
    "\n",
    "cm_tuned_logreg_base.score(X_test, y_test)\n",
    "plt.xlabel('Prediction')\n",
    "plt.ylabel('Actual')\n",
    "plt.title('Confusion Matrix logreg tuned base Test')\n",
    "plt.show()"
   ]
  },
  {
   "cell_type": "markdown",
   "metadata": {},
   "source": [
    "### KNN Tuning\n"
   ]
  },
  {
   "cell_type": "code",
   "execution_count": 533,
   "metadata": {},
   "outputs": [
    {
     "name": "stdout",
     "output_type": "stream",
     "text": [
      "Fitting 5 folds for each of 336 candidates, totalling 1680 fits\n"
     ]
    },
    {
     "name": "stderr",
     "output_type": "stream",
     "text": [
      "[Parallel(n_jobs=-1)]: Using backend LokyBackend with 8 concurrent workers.\n",
      "[Parallel(n_jobs=-1)]: Done  56 tasks      | elapsed:    0.2s\n",
      "[Parallel(n_jobs=-1)]: Done 1200 tasks      | elapsed:    4.2s\n",
      "[Parallel(n_jobs=-1)]: Done 1665 out of 1680 | elapsed:    6.6s remaining:    0.0s\n",
      "[Parallel(n_jobs=-1)]: Done 1680 out of 1680 | elapsed:    6.6s finished\n"
     ]
    },
    {
     "data": {
      "text/plain": [
       "GridSearchCV(cv=5, estimator=KNeighborsClassifier(), n_jobs=-1,\n",
       "             param_grid={'algorithm': ['auto', 'ball_tree', 'kd_tree', 'brute'],\n",
       "                         'leaf_size': [30, 40, 50],\n",
       "                         'n_neighbors': [5, 7, 9, 15, 30, 45, 55], 'p': [2, 1],\n",
       "                         'weights': ['uniform', 'distance']},\n",
       "             scoring='accuracy', verbose=1)"
      ]
     },
     "execution_count": 533,
     "metadata": {},
     "output_type": "execute_result"
    }
   ],
   "source": [
    "KNN_tuning = KNeighborsClassifier()\n",
    "param_KNN = {'n_neighbors':[5,7,9,15, 30, 45,55 ],\n",
    "               'weights':['uniform','distance'],\n",
    "               'p':[2, 1],\n",
    "            'algorithm': ['auto','ball_tree','kd_tree','brute'],\n",
    "            'leaf_size':[30, 40, 50]}\n",
    "\n",
    "model_KNN_tuned = GridSearchCV(estimator = KNN_tuning, param_grid = param_KNN, cv = 5, n_jobs = -1 , verbose = 1, scoring = 'accuracy')\n",
    "model_KNN_tuned.fit(X_train, y_train)"
   ]
  },
  {
   "cell_type": "code",
   "execution_count": 534,
   "metadata": {},
   "outputs": [],
   "source": [
    "KNN_tuned = model_KNN_tuned.best_estimator_\n",
    "y_tuned_KNN = KNN_tuned.predict(X_test)"
   ]
  },
  {
   "cell_type": "code",
   "execution_count": 535,
   "metadata": {},
   "outputs": [
    {
     "name": "stdout",
     "output_type": "stream",
     "text": [
      "train accuracy KNN tuned :  1.0\n",
      "test accuracy KNN tuned :  0.9325\n"
     ]
    }
   ],
   "source": [
    "KNN_tuned_train = KNN_tuned.score(X_train, y_train)\n",
    "print('train accuracy KNN tuned : ', KNN_tuned.score(X_train, y_train))\n",
    "print('test accuracy KNN tuned : ', KNN_tuned.score(X_test, y_test))\n",
    "\n",
    "# there is an increase in the test score of non scaled KNN however we see that there is overfitting problem"
   ]
  },
  {
   "cell_type": "code",
   "execution_count": 536,
   "metadata": {},
   "outputs": [
    {
     "name": "stdout",
     "output_type": "stream",
     "text": [
      "              precision    recall  f1-score   support\n",
      "\n",
      "           0       0.96      0.99      0.98       100\n",
      "           1       0.91      0.90      0.90       100\n",
      "           2       0.88      0.90      0.89       100\n",
      "           3       0.98      0.94      0.96       100\n",
      "\n",
      "    accuracy                           0.93       400\n",
      "   macro avg       0.93      0.93      0.93       400\n",
      "weighted avg       0.93      0.93      0.93       400\n",
      "\n"
     ]
    }
   ],
   "source": [
    "acc_KNN_tuned = accuracy_score(y_test, y_tuned_KNN)\n",
    "\n",
    "print(classification_report(y_test, y_tuned_KNN))"
   ]
  },
  {
   "cell_type": "code",
   "execution_count": 537,
   "metadata": {},
   "outputs": [
    {
     "data": {
      "image/png": "[encoded data removed]",
      "text/plain": [
       "<Figure size 576x396 with 1 Axes>"
      ]
     },
     "metadata": {},
     "output_type": "display_data"
    }
   ],
   "source": [
    "cm_tuned_KNN = ConfusionMatrix(KNN_tuned, classes = [0,1,2,3])\n",
    "cm_tuned_KNN.fit(X_train, y_train)\n",
    "\n",
    "cm_tuned_KNN.score(X_test, y_test)\n",
    "plt.xlabel('Prediction')\n",
    "plt.ylabel('Actual')\n",
    "plt.title('Confusion Matrix KNN tuned  Test')\n",
    "plt.show()"
   ]
  },
  {
   "cell_type": "markdown",
   "metadata": {},
   "source": [
    "### KNN Scaled Tuning"
   ]
  },
  {
   "cell_type": "code",
   "execution_count": 540,
   "metadata": {},
   "outputs": [
    {
     "name": "stdout",
     "output_type": "stream",
     "text": [
      "Fitting 5 folds for each of 336 candidates, totalling 1680 fits\n"
     ]
    },
    {
     "name": "stderr",
     "output_type": "stream",
     "text": [
      "[Parallel(n_jobs=-1)]: Using backend LokyBackend with 8 concurrent workers.\n",
      "[Parallel(n_jobs=-1)]: Done  56 tasks      | elapsed:    0.2s\n",
      "[Parallel(n_jobs=-1)]: Done 1200 tasks      | elapsed:    6.3s\n",
      "[Parallel(n_jobs=-1)]: Done 1665 out of 1680 | elapsed:    9.2s remaining:    0.0s\n",
      "[Parallel(n_jobs=-1)]: Done 1680 out of 1680 | elapsed:    9.2s finished\n"
     ]
    },
    {
     "data": {
      "text/plain": [
       "GridSearchCV(cv=5, estimator=KNeighborsClassifier(), n_jobs=-1,\n",
       "             param_grid={'algorithm': ['auto', 'ball_tree', 'kd_tree', 'brute'],\n",
       "                         'leaf_size': [30, 40, 50],\n",
       "                         'n_neighbors': [5, 7, 9, 15, 30, 45, 55], 'p': [2, 1],\n",
       "                         'weights': ['uniform', 'distance']},\n",
       "             scoring='accuracy', verbose=1)"
      ]
     },
     "execution_count": 540,
     "metadata": {},
     "output_type": "execute_result"
    }
   ],
   "source": [
    "KNN_tuning_scaled = KNeighborsClassifier()\n",
    "param_KNN_scaled = {'n_neighbors':[5,7,9,15, 30, 45,55 ],\n",
    "               'weights':['uniform','distance'],\n",
    "               'p':[2, 1],\n",
    "            'algorithm': ['auto','ball_tree','kd_tree','brute'],\n",
    "            'leaf_size':[30, 40, 50]}\n",
    "\n",
    "model_KNN_tuned_scaled = GridSearchCV(estimator = KNN_tuning_scaled, param_grid = param_KNN_scaled, cv = 5, n_jobs = -1 , verbose = 1, scoring = 'accuracy')\n",
    "model_KNN_tuned_scaled.fit(X_train_scaled, y_train)"
   ]
  },
  {
   "cell_type": "code",
   "execution_count": 546,
   "metadata": {},
   "outputs": [],
   "source": [
    "KNN_tuned_scaled = model_KNN_tuned_scaled.best_estimator_\n",
    "y_tuned_KNN_scaled = KNN_tuned_scaled.predict(X_test_scaled)"
   ]
  },
  {
   "cell_type": "code",
   "execution_count": 547,
   "metadata": {},
   "outputs": [
    {
     "name": "stdout",
     "output_type": "stream",
     "text": [
      "train accuracy KNN scaled tuned :  1.0\n",
      "test accuracy KNN scaled tuned :  0.915\n"
     ]
    }
   ],
   "source": [
    "KNN_tuned_train_scaled = KNN_tuned_scaled.score(X_train_scaled, y_train)\n",
    "print('train accuracy KNN scaled tuned : ', KNN_tuned_scaled.score(X_train_scaled, y_train))\n",
    "print('test accuracy KNN scaled tuned : ', KNN_tuned_scaled.score(X_test_scaled, y_test))\n",
    "\n",
    "# we can see that even after scaling we still have overfitting for the KNN \n",
    "# and the tuning with no scaling still have a better accuracy score compareed to the scaled version"
   ]
  },
  {
   "cell_type": "code",
   "execution_count": 548,
   "metadata": {},
   "outputs": [
    {
     "name": "stdout",
     "output_type": "stream",
     "text": [
      "              precision    recall  f1-score   support\n",
      "\n",
      "           0       0.97      1.00      0.99       100\n",
      "           1       0.90      0.87      0.88       100\n",
      "           2       0.83      0.86      0.85       100\n",
      "           3       0.96      0.93      0.94       100\n",
      "\n",
      "    accuracy                           0.92       400\n",
      "   macro avg       0.92      0.92      0.91       400\n",
      "weighted avg       0.92      0.92      0.91       400\n",
      "\n"
     ]
    }
   ],
   "source": [
    "acc_KNN_tuned_scaled = accuracy_score(y_test, y_tuned_KNN_scaled)\n",
    "\n",
    "print(classification_report(y_test, y_tuned_KNN_scaled))"
   ]
  },
  {
   "cell_type": "code",
   "execution_count": 549,
   "metadata": {},
   "outputs": [
    {
     "data": {
      "image/png": "[encoded data removed]",
      "text/plain": [
       "<Figure size 576x396 with 1 Axes>"
      ]
     },
     "metadata": {},
     "output_type": "display_data"
    }
   ],
   "source": [
    "cm_tuned_KNN_scaled = ConfusionMatrix(KNN_tuned_scaled, classes = [0,1,2,3])\n",
    "cm_tuned_KNN_scaled.fit(X_train_scaled, y_train)\n",
    "\n",
    "cm_tuned_KNN_scaled.score(X_test_scaled, y_test)\n",
    "plt.xlabel('Prediction')\n",
    "plt.ylabel('Actual')\n",
    "plt.title('Confusion Matrix KNN tuned scaled Test')\n",
    "plt.show()"
   ]
  },
  {
   "cell_type": "markdown",
   "metadata": {},
   "source": [
    "## SVC Tuning"
   ]
  },
  {
   "cell_type": "code",
   "execution_count": 552,
   "metadata": {},
   "outputs": [
    {
     "name": "stdout",
     "output_type": "stream",
     "text": [
      "Fitting 5 folds for each of 10 candidates, totalling 50 fits\n"
     ]
    },
    {
     "name": "stderr",
     "output_type": "stream",
     "text": [
      "[Parallel(n_jobs=-1)]: Using backend LokyBackend with 8 concurrent workers.\n",
      "[Parallel(n_jobs=-1)]: Done  34 tasks      | elapsed:    4.3s\n",
      "[Parallel(n_jobs=-1)]: Done  50 out of  50 | elapsed:   34.9s finished\n"
     ]
    },
    {
     "data": {
      "text/plain": [
       "RandomizedSearchCV(cv=5, estimator=SVC(), n_jobs=-1,\n",
       "                   param_distributions={'C': [1.0, 2.0, 3.0, 1.5],\n",
       "                                        'class_weight': [None, 'balanced'],\n",
       "                                        'coef0': [0.0, 0.2, 0.5, 1.0],\n",
       "                                        'decision_function_shape': ['ovr',\n",
       "                                                                    'ovo'],\n",
       "                                        'degree': [3, 2, 4, 5],\n",
       "                                        'gamma': ['scale', 'auto'],\n",
       "                                        'kernel': ['rbf', 'poly', 'sigmoid',\n",
       "                                                   'linear']},\n",
       "                   scoring='accuracy', verbose=1)"
      ]
     },
     "execution_count": 552,
     "metadata": {},
     "output_type": "execute_result"
    }
   ],
   "source": [
    "SVC_tuned = SVC()\n",
    "param_SVC_tuned = {'C':[1.0, 2.0, 3.0, 1.5],\n",
    "               'kernel':['rbf','poly','sigmoid','linear'],\n",
    "               'degree':[3, 2, 4, 5],\n",
    "               'gamma':['scale','auto'],\n",
    "               'coef0':[0.0,0.2,0.5,1.0],\n",
    "               'class_weight':[None,'balanced'],\n",
    "               'decision_function_shape':['ovr','ovo']}\n",
    "\n",
    "model_SVC_tuned = RandomizedSearchCV(estimator = SVC_tuned, param_distributions= param_SVC_tuned, scoring = 'accuracy', n_jobs = -1, cv = 5, verbose = 1)\n",
    "model_SVC_tuned.fit(X_train, y_train)"
   ]
  },
  {
   "cell_type": "code",
   "execution_count": 553,
   "metadata": {},
   "outputs": [],
   "source": [
    "SVC_tuned = model_SVC_tuned.best_estimator_\n",
    "y_SVC_tuned = SVC_tuned.predict(X_test)"
   ]
  },
  {
   "cell_type": "code",
   "execution_count": 555,
   "metadata": {},
   "outputs": [
    {
     "name": "stdout",
     "output_type": "stream",
     "text": [
      "train accuracy SVC tuned :  0.926875\n",
      "test accuracy SVC tuned :  0.9575\n"
     ]
    }
   ],
   "source": [
    "SVC_tuned_train = SVC_tuned.score(X_train, y_train)\n",
    "\n",
    "print('train accuracy SVC tuned : ', SVC_tuned.score(X_train, y_train))\n",
    "print('test accuracy SVC tuned : ', SVC_tuned.score(X_test, y_test))\n",
    "\n",
    "# the result of tuned SVC has a slightly better score compared to the base model of SVC\n"
   ]
  },
  {
   "cell_type": "code",
   "execution_count": 557,
   "metadata": {},
   "outputs": [
    {
     "name": "stdout",
     "output_type": "stream",
     "text": [
      "              precision    recall  f1-score   support\n",
      "\n",
      "           0       0.99      0.98      0.98       100\n",
      "           1       0.93      0.96      0.95       100\n",
      "           2       0.95      0.91      0.93       100\n",
      "           3       0.96      0.98      0.97       100\n",
      "\n",
      "    accuracy                           0.96       400\n",
      "   macro avg       0.96      0.96      0.96       400\n",
      "weighted avg       0.96      0.96      0.96       400\n",
      "\n"
     ]
    }
   ],
   "source": [
    "acc_tuned_SVC = accuracy_score(y_test, y_SVC_tuned)\n",
    "\n",
    "print(classification_report(y_test, y_SVC_tuned))"
   ]
  },
  {
   "cell_type": "code",
   "execution_count": 558,
   "metadata": {},
   "outputs": [
    {
     "data": {
      "image/png": "[encoded data removed]",
      "text/plain": [
       "<Figure size 576x396 with 1 Axes>"
      ]
     },
     "metadata": {},
     "output_type": "display_data"
    }
   ],
   "source": [
    "cm_tuned_SVC = ConfusionMatrix(SVC_tuned, classes = [0,1,2,3])\n",
    "cm_tuned_SVC.fit(X_train, y_train)\n",
    "\n",
    "cm_tuned_SVC.score(X_test, y_test)\n",
    "plt.xlabel('Prediction')\n",
    "plt.ylabel('Actual')\n",
    "plt.title('Confusion Matrix SVC tuned  Test')\n",
    "plt.show()"
   ]
  },
  {
   "cell_type": "markdown",
   "metadata": {},
   "source": [
    "**Tuning Scaled SVC**"
   ]
  },
  {
   "cell_type": "code",
   "execution_count": 559,
   "metadata": {},
   "outputs": [
    {
     "name": "stdout",
     "output_type": "stream",
     "text": [
      "Fitting 5 folds for each of 10 candidates, totalling 50 fits\n"
     ]
    },
    {
     "name": "stderr",
     "output_type": "stream",
     "text": [
      "[Parallel(n_jobs=-1)]: Using backend LokyBackend with 8 concurrent workers.\n",
      "[Parallel(n_jobs=-1)]: Done  34 tasks      | elapsed:    3.1s\n",
      "[Parallel(n_jobs=-1)]: Done  50 out of  50 | elapsed:    3.3s finished\n"
     ]
    },
    {
     "data": {
      "text/plain": [
       "RandomizedSearchCV(cv=5,\n",
       "                   estimator=SVC(C=1.5, class_weight='balanced', coef0=0.2,\n",
       "                                 degree=2, kernel='poly'),\n",
       "                   n_jobs=-1,\n",
       "                   param_distributions={'C': [1.0, 2.0, 3.0, 1.5],\n",
       "                                        'class_weight': [None, 'balanced'],\n",
       "                                        'coef0': [0.0, 0.2, 0.5, 1.0],\n",
       "                                        'decision_function_shape': ['ovr',\n",
       "                                                                    'ovo'],\n",
       "                                        'degree': [3, 2, 4, 5],\n",
       "                                        'gamma': ['scale', 'auto'],\n",
       "                                        'kernel': ['rbf', 'poly', 'sigmoid',\n",
       "                                                   'linear']},\n",
       "                   scoring='accuracy', verbose=1)"
      ]
     },
     "execution_count": 559,
     "metadata": {},
     "output_type": "execute_result"
    }
   ],
   "source": [
    "SVC_tuned_scaled = SVC()\n",
    "param_SVC_tuned_scaled = {'C':[1.0, 2.0, 3.0, 1.5],\n",
    "               'kernel':['rbf','poly','sigmoid','linear'],\n",
    "               'degree':[3, 2, 4, 5],\n",
    "               'gamma':['scale','auto'],\n",
    "               'coef0':[0.0,0.2,0.5,1.0],\n",
    "               'class_weight':[None,'balanced'],\n",
    "               'decision_function_shape':['ovr','ovo']}\n",
    "\n",
    "model_SVC_tuned_scaled = RandomizedSearchCV(estimator = SVC_tuned, param_distributions= param_SVC_tuned, scoring = 'accuracy', n_jobs = -1, cv = 5, verbose = 1)\n",
    "model_SVC_tuned_scaled.fit(X_train_scaled, y_train)"
   ]
  },
  {
   "cell_type": "code",
   "execution_count": 560,
   "metadata": {},
   "outputs": [],
   "source": [
    "SVC_tuned_scaled = model_SVC_tuned_scaled.best_estimator_\n",
    "y_SVC_tuned_scaled = SVC_tuned_scaled.predict(X_test_scaled)"
   ]
  },
  {
   "cell_type": "code",
   "execution_count": 562,
   "metadata": {},
   "outputs": [
    {
     "name": "stdout",
     "output_type": "stream",
     "text": [
      "train accuracy SVC tuned scaled :  0.925625\n",
      "test accuracy SVC tuned scaled:  0.945\n"
     ]
    }
   ],
   "source": [
    "SVC_tuned_train_scaled = SVC_tuned_scaled.score(X_train_scaled, y_train)\n",
    "\n",
    "print('train accuracy SVC tuned scaled : ', SVC_tuned_scaled.score(X_train_scaled, y_train))\n",
    "print('test accuracy SVC tuned scaled: ', SVC_tuned_scaled.score(X_test_scaled, y_test))\n",
    "\n",
    "\n",
    "# the scaled svc has a better score compared to the regular scaled svc and it has a better score\n",
    "# than scaled svc however the tuned non scaled svc have a better tuning score compared to the scaled\n",
    "# one"
   ]
  },
  {
   "cell_type": "code",
   "execution_count": 563,
   "metadata": {},
   "outputs": [
    {
     "name": "stdout",
     "output_type": "stream",
     "text": [
      "              precision    recall  f1-score   support\n",
      "\n",
      "           0       0.98      0.98      0.98       100\n",
      "           1       0.92      0.94      0.93       100\n",
      "           2       0.94      0.88      0.91       100\n",
      "           3       0.94      0.98      0.96       100\n",
      "\n",
      "    accuracy                           0.94       400\n",
      "   macro avg       0.95      0.94      0.94       400\n",
      "weighted avg       0.95      0.94      0.94       400\n",
      "\n"
     ]
    }
   ],
   "source": [
    "acc_tuned_SVC_scaled = accuracy_score(y_test, y_SVC_tuned_scaled)\n",
    "\n",
    "print(classification_report(y_test, y_SVC_tuned_scaled))"
   ]
  },
  {
   "cell_type": "code",
   "execution_count": 564,
   "metadata": {},
   "outputs": [
    {
     "data": {
      "image/png": "[encoded data removed]",
      "text/plain": [
       "<Figure size 576x396 with 1 Axes>"
      ]
     },
     "metadata": {},
     "output_type": "display_data"
    }
   ],
   "source": [
    "cm_tuned_SVC_scaled = ConfusionMatrix(SVC_tuned_scaled, classes = [0,1,2,3])\n",
    "cm_tuned_SVC_scaled.fit(X_train_scaled, y_train)\n",
    "\n",
    "cm_tuned_SVC_scaled.score(X_test_scaled, y_test)\n",
    "plt.xlabel('Prediction')\n",
    "plt.ylabel('Actual')\n",
    "plt.title('Confusion Matrix SVC scaled tuned  Test')\n",
    "plt.show()"
   ]
  },
  {
   "cell_type": "markdown",
   "metadata": {},
   "source": [
    "## Decision Tree Tuning"
   ]
  },
  {
   "cell_type": "code",
   "execution_count": 566,
   "metadata": {},
   "outputs": [
    {
     "name": "stdout",
     "output_type": "stream",
     "text": [
      "Fitting 5 folds for each of 1600 candidates, totalling 8000 fits\n"
     ]
    },
    {
     "name": "stderr",
     "output_type": "stream",
     "text": [
      "[Parallel(n_jobs=-1)]: Using backend LokyBackend with 8 concurrent workers.\n",
      "[Parallel(n_jobs=-1)]: Done  56 tasks      | elapsed:    0.1s\n",
      "[Parallel(n_jobs=-1)]: Done 2160 tasks      | elapsed:    5.0s\n",
      "[Parallel(n_jobs=-1)]: Done 6160 tasks      | elapsed:   15.1s\n",
      "[Parallel(n_jobs=-1)]: Done 8000 out of 8000 | elapsed:   19.8s finished\n"
     ]
    },
    {
     "data": {
      "text/plain": [
       "GridSearchCV(cv=5, estimator=DecisionTreeClassifier(), n_jobs=-1,\n",
       "             param_grid={'criterion': ['gini', 'entropy'],\n",
       "                         'max_depth': [None, 2, 6, 8, 12],\n",
       "                         'max_features': [None, 'auto', 'sqrt', 'log2'],\n",
       "                         'min_samples_leaf': [1, 2, 4, 6],\n",
       "                         'min_samples_split': [2, 4, 6, 1, 5],\n",
       "                         'splitter': ['best', 'random']},\n",
       "             scoring='accuracy', verbose=1)"
      ]
     },
     "execution_count": 566,
     "metadata": {},
     "output_type": "execute_result"
    }
   ],
   "source": [
    "decision_tree_tuned = DecisionTreeClassifier()\n",
    "param_DT_tuned = {'criterion': ['gini','entropy'],\n",
    "                 'splitter':['best', 'random'],\n",
    "                 'max_depth':[None, 2, 6, 8, 12],\n",
    "                 'min_samples_split':[2,4,6,1,5],\n",
    "                 'min_samples_leaf':[1, 2, 4, 6],\n",
    "                 'max_features': [None, 'auto', 'sqrt', 'log2']}\n",
    "\n",
    "model_DT_tuned = GridSearchCV(decision_tree_tuned, param_DT_tuned, cv = 5, scoring = 'accuracy', verbose = 1, n_jobs = -1)\n",
    "model_DT_tuned.fit(X_train, y_train)"
   ]
  },
  {
   "cell_type": "code",
   "execution_count": 567,
   "metadata": {},
   "outputs": [],
   "source": [
    "DT_tuned = model_DT_tuned.best_estimator_\n",
    "y_DT_tuned = DT_tuned.predict(X_test)"
   ]
  },
  {
   "cell_type": "code",
   "execution_count": 568,
   "metadata": {},
   "outputs": [
    {
     "name": "stdout",
     "output_type": "stream",
     "text": [
      "Training Score for DT tuned model:  0.976875\n",
      "Testing Score for DT tuned model:  0.8825\n"
     ]
    }
   ],
   "source": [
    "DT_tuned_train = DT_tuned.score(X_train,y_train)\n",
    "\n",
    "print('Training Score for DT tuned model: ', DT_tuned.score(X_train,y_train))\n",
    "print('Testing Score for DT tuned model: ', DT_tuned.score(X_test, y_test))\n",
    "\n",
    "#there is a slight increase from the model however the model is still overfitting "
   ]
  },
  {
   "cell_type": "code",
   "execution_count": 587,
   "metadata": {},
   "outputs": [
    {
     "name": "stdout",
     "output_type": "stream",
     "text": [
      "              precision    recall  f1-score   support\n",
      "\n",
      "           0       0.92      0.96      0.94       100\n",
      "           1       0.87      0.81      0.84       100\n",
      "           2       0.81      0.85      0.83       100\n",
      "           3       0.93      0.91      0.92       100\n",
      "\n",
      "    accuracy                           0.88       400\n",
      "   macro avg       0.88      0.88      0.88       400\n",
      "weighted avg       0.88      0.88      0.88       400\n",
      "\n"
     ]
    }
   ],
   "source": [
    "acc_tuned_DT = accuracy_score(y_test, y_DT_tuned)\n",
    "\n",
    "print(classification_report(y_test, y_DT_tuned))"
   ]
  },
  {
   "cell_type": "code",
   "execution_count": 569,
   "metadata": {},
   "outputs": [
    {
     "data": {
      "image/png": "[encoded data removed]",
      "text/plain": [
       "<Figure size 576x396 with 1 Axes>"
      ]
     },
     "metadata": {},
     "output_type": "display_data"
    }
   ],
   "source": [
    "## confusion matrix \n",
    "\n",
    "cm_tuned_DT = ConfusionMatrix(DT_tuned, classes = [0,1,2,3])\n",
    "cm_tuned_DT.fit(X_train, y_train)\n",
    "\n",
    "cm_tuned_DT.score(X_test, y_test)\n",
    "plt.xlabel('Prediction')\n",
    "plt.ylabel('Actual')\n",
    "plt.title('Confusion Matrix DT tuned  Test')\n",
    "plt.show()\n",
    "\n",
    "# most error happened when predicting phone in price range 1 "
   ]
  },
  {
   "cell_type": "markdown",
   "metadata": {},
   "source": [
    "## Random Forest Tuning"
   ]
  },
  {
   "cell_type": "code",
   "execution_count": 571,
   "metadata": {},
   "outputs": [
    {
     "name": "stdout",
     "output_type": "stream",
     "text": [
      "Fitting 5 folds for each of 4000 candidates, totalling 20000 fits\n"
     ]
    },
    {
     "name": "stderr",
     "output_type": "stream",
     "text": [
      "[Parallel(n_jobs=-1)]: Using backend LokyBackend with 8 concurrent workers.\n",
      "[Parallel(n_jobs=-1)]: Done  34 tasks      | elapsed:    4.2s\n",
      "[Parallel(n_jobs=-1)]: Done 184 tasks      | elapsed:   12.7s\n",
      "[Parallel(n_jobs=-1)]: Done 434 tasks      | elapsed:   33.0s\n",
      "[Parallel(n_jobs=-1)]: Done 784 tasks      | elapsed:   53.1s\n",
      "[Parallel(n_jobs=-1)]: Done 1234 tasks      | elapsed:  1.3min\n",
      "[Parallel(n_jobs=-1)]: Done 1784 tasks      | elapsed:  1.8min\n",
      "[Parallel(n_jobs=-1)]: Done 2434 tasks      | elapsed:  2.5min\n",
      "[Parallel(n_jobs=-1)]: Done 3184 tasks      | elapsed:  3.1min\n",
      "[Parallel(n_jobs=-1)]: Done 4034 tasks      | elapsed:  3.8min\n",
      "[Parallel(n_jobs=-1)]: Done 4984 tasks      | elapsed:  4.8min\n",
      "[Parallel(n_jobs=-1)]: Done 6034 tasks      | elapsed:  5.8min\n",
      "[Parallel(n_jobs=-1)]: Done 7184 tasks      | elapsed:  6.9min\n",
      "[Parallel(n_jobs=-1)]: Done 8434 tasks      | elapsed:  8.2min\n",
      "[Parallel(n_jobs=-1)]: Done 9784 tasks      | elapsed:  9.5min\n",
      "[Parallel(n_jobs=-1)]: Done 11234 tasks      | elapsed: 11.3min\n",
      "[Parallel(n_jobs=-1)]: Done 12784 tasks      | elapsed: 13.0min\n",
      "[Parallel(n_jobs=-1)]: Done 14434 tasks      | elapsed: 14.8min\n",
      "[Parallel(n_jobs=-1)]: Done 16184 tasks      | elapsed: 16.8min\n",
      "[Parallel(n_jobs=-1)]: Done 18034 tasks      | elapsed: 19.2min\n",
      "[Parallel(n_jobs=-1)]: Done 19984 tasks      | elapsed: 21.6min\n",
      "[Parallel(n_jobs=-1)]: Done 20000 out of 20000 | elapsed: 21.6min finished\n"
     ]
    },
    {
     "data": {
      "text/plain": [
       "GridSearchCV(cv=5, estimator=RandomForestClassifier(), n_jobs=-1,\n",
       "             param_grid={'criterion': ['gini', 'entropy'],\n",
       "                         'max_depth': [None, 2, 6, 8, 12],\n",
       "                         'max_features': [None, 'auto', 'sqrt', 'log2'],\n",
       "                         'max_leaf_nodes': [None, 1, 2, 4, 6],\n",
       "                         'min_samples_leaf': [1, 2, 4, 6],\n",
       "                         'min_samples_split': [2, 4, 6, 1, 5]},\n",
       "             scoring='accuracy', verbose=1)"
      ]
     },
     "execution_count": 571,
     "metadata": {},
     "output_type": "execute_result"
    }
   ],
   "source": [
    "random_forest_tuned = RandomForestClassifier()\n",
    "param_RF_tuned = {'criterion': ['gini','entropy'],\n",
    "                 'max_depth':[None, 2, 6, 8, 12],\n",
    "                 'min_samples_split':[2,4,6,1,5],\n",
    "                 'min_samples_leaf':[1, 2, 4, 6],\n",
    "                 'max_features': [None, 'auto', 'sqrt', 'log2'],\n",
    "                 'max_leaf_nodes':[None, 1, 2, 4, 6]}\n",
    "\n",
    "model_RF_tuned = GridSearchCV(random_forest_tuned, param_RF_tuned, cv = 5, scoring = 'accuracy', verbose = 1, n_jobs = -1)\n",
    "model_RF_tuned.fit(X_train, y_train)"
   ]
  },
  {
   "cell_type": "code",
   "execution_count": 572,
   "metadata": {},
   "outputs": [],
   "source": [
    "RF_tuned = model_RF_tuned.best_estimator_\n",
    "y_RF_tuned = RF_tuned.predict(X_test)"
   ]
  },
  {
   "cell_type": "code",
   "execution_count": 573,
   "metadata": {},
   "outputs": [
    {
     "name": "stdout",
     "output_type": "stream",
     "text": [
      "Training Score for RF tuned model:  0.995625\n",
      "Testing Score for RF tuned model:  0.945\n"
     ]
    }
   ],
   "source": [
    "RF_tuned_train = RF_tuned.score(X_train,y_train)\n",
    "\n",
    "print('Training Score for RF tuned model: ', RF_tuned.score(X_train,y_train))\n",
    "print('Testing Score for RF tuned model: ', RF_tuned.score(X_test, y_test))\n",
    "\n",
    "# even with 20000 fit random forest is still overfitting this might be due to features selection"
   ]
  },
  {
   "cell_type": "code",
   "execution_count": 576,
   "metadata": {},
   "outputs": [
    {
     "name": "stdout",
     "output_type": "stream",
     "text": [
      "              precision    recall  f1-score   support\n",
      "\n",
      "           0       0.96      1.00      0.98       100\n",
      "           1       0.92      0.91      0.91       100\n",
      "           2       0.92      0.90      0.91       100\n",
      "           3       0.98      0.97      0.97       100\n",
      "\n",
      "    accuracy                           0.94       400\n",
      "   macro avg       0.94      0.95      0.94       400\n",
      "weighted avg       0.94      0.94      0.94       400\n",
      "\n"
     ]
    }
   ],
   "source": [
    "acc_tuned_RF = accuracy_score(y_test, y_RF_tuned)\n",
    "\n",
    "print(classification_report(y_test, y_RF_tuned))"
   ]
  },
  {
   "cell_type": "code",
   "execution_count": 577,
   "metadata": {},
   "outputs": [
    {
     "data": {
      "image/png": "[encoded data removed]",
      "text/plain": [
       "<Figure size 576x396 with 1 Axes>"
      ]
     },
     "metadata": {},
     "output_type": "display_data"
    }
   ],
   "source": [
    "cm_tuned_RF = ConfusionMatrix(RF_tuned, classes = [0,1,2,3])\n",
    "cm_tuned_RF.fit(X_train, y_train)\n",
    "\n",
    "cm_tuned_RF.score(X_test, y_test)\n",
    "plt.xlabel('Prediction')\n",
    "plt.ylabel('Actual')\n",
    "plt.title('Confusion Matrix RF tuned  Test')\n",
    "plt.show()"
   ]
  },
  {
   "cell_type": "markdown",
   "metadata": {},
   "source": [
    "### XGB tuning"
   ]
  },
  {
   "cell_type": "code",
   "execution_count": 582,
   "metadata": {},
   "outputs": [
    {
     "name": "stdout",
     "output_type": "stream",
     "text": [
      "Fitting 5 folds for each of 648 candidates, totalling 3240 fits\n"
     ]
    },
    {
     "name": "stderr",
     "output_type": "stream",
     "text": [
      "[Parallel(n_jobs=-1)]: Using backend LokyBackend with 8 concurrent workers.\n",
      "[Parallel(n_jobs=-1)]: Done  34 tasks      | elapsed:    5.2s\n",
      "[Parallel(n_jobs=-1)]: Done 184 tasks      | elapsed:   18.5s\n",
      "[Parallel(n_jobs=-1)]: Done 434 tasks      | elapsed:   40.7s\n",
      "[Parallel(n_jobs=-1)]: Done 784 tasks      | elapsed:  1.3min\n",
      "[Parallel(n_jobs=-1)]: Done 2436 tasks      | elapsed:  2.2min\n",
      "[Parallel(n_jobs=-1)]: Done 3056 tasks      | elapsed:  2.9min\n",
      "[Parallel(n_jobs=-1)]: Done 3240 out of 3240 | elapsed:  3.2min finished\n"
     ]
    },
    {
     "name": "stdout",
     "output_type": "stream",
     "text": [
      "[12:48:52] WARNING: C:\\Users\\Administrator\\workspace\\xgboost-win64_release_1.2.0\\src\\learner.cc:516: \n",
      "Parameters: { n_estimator } might not be used.\n",
      "\n",
      "  This may not be accurate due to some parameters are only used in language bindings but\n",
      "  passed down to XGBoost core.  Or some parameters are not used but slip through this\n",
      "  verification. Please open an issue if you find above cases.\n",
      "\n",
      "\n"
     ]
    },
    {
     "data": {
      "text/plain": [
       "GridSearchCV(cv=5,\n",
       "             estimator=XGBClassifier(base_score=None, booster=None,\n",
       "                                     colsample_bylevel=None,\n",
       "                                     colsample_bynode=None,\n",
       "                                     colsample_bytree=None, gamma=None,\n",
       "                                     gpu_id=None, importance_type='gain',\n",
       "                                     interaction_constraints=None,\n",
       "                                     learning_rate=None, max_delta_step=None,\n",
       "                                     max_depth=None, min_child_weight=None,\n",
       "                                     missing=nan, monotone_constraints=None,\n",
       "                                     n_estimators=100, n_jobs...\n",
       "                                     reg_alpha=None, reg_lambda=None,\n",
       "                                     scale_pos_weight=None, subsample=None,\n",
       "                                     tree_method=None, validate_parameters=None,\n",
       "                                     verbosity=None),\n",
       "             n_jobs=-1,\n",
       "             param_grid={'colsample_bytree': [1, 1.4, 0.5],\n",
       "                         'gamma': [0, 0.3, 0.5], 'learning_rate': [0.1, 0.3],\n",
       "                         'max_depth': [3, 2, 4, 1], 'n_estimator': [100],\n",
       "                         'reg_alpha': [0, 0.5, 1.0],\n",
       "                         'reg_lambda': [1, 1.5, 2.1], 'subsample': [1]},\n",
       "             scoring='accuracy', verbose=1)"
      ]
     },
     "execution_count": 582,
     "metadata": {},
     "output_type": "execute_result"
    }
   ],
   "source": [
    "XGB_tuned =XGBClassifier()\n",
    "param_XGB_tuned = {'max_depth': [3, 2, 4, 1],\n",
    "                 'learning_rate': [0.1, 0.3],\n",
    "                 'n_estimator': [100],\n",
    "                 'gamma': [0, 0.3, 0.5],\n",
    "                 'colsample_bytree': [1, 1.4, 0.5],\n",
    "                 'subsample':[1],\n",
    "                 'reg_alpha':[0, 0.5, 1.0],\n",
    "                 'reg_lambda':[1, 1.5, 2.1]}\n",
    "\n",
    "model_XGB_tuned = GridSearchCV(XGB_tuned, param_XGB_tuned, cv = 5, scoring = 'accuracy', verbose = 1, n_jobs = -1)\n",
    "model_XGB_tuned.fit(X_train, y_train)"
   ]
  },
  {
   "cell_type": "code",
   "execution_count": 583,
   "metadata": {},
   "outputs": [],
   "source": [
    "XGB_tuned = model_XGB_tuned.best_estimator_\n",
    "y_XGB_tuned = XGB_tuned.predict(X_test)"
   ]
  },
  {
   "cell_type": "code",
   "execution_count": 584,
   "metadata": {},
   "outputs": [
    {
     "name": "stdout",
     "output_type": "stream",
     "text": [
      "Training Score for XGB tuned model:  1.0\n",
      "Testing Score for XGB tuned model:  0.95\n"
     ]
    }
   ],
   "source": [
    "XGB_tuned_train = XGB_tuned.score(X_train,y_train)\n",
    "\n",
    "print('Training Score for XGB tuned model: ', XGB_tuned.score(X_train,y_train))\n",
    "print('Testing Score for XGB tuned model: ', XGB_tuned.score(X_test, y_test))\n",
    "\n",
    "# we can see that this model is still overfitting even after tuning, we can conclude that we need better\n",
    "# feature selection for 3 overfitting model"
   ]
  },
  {
   "cell_type": "code",
   "execution_count": 585,
   "metadata": {},
   "outputs": [
    {
     "name": "stdout",
     "output_type": "stream",
     "text": [
      "              precision    recall  f1-score   support\n",
      "\n",
      "           0       0.98      1.00      0.99       100\n",
      "           1       0.94      0.95      0.95       100\n",
      "           2       0.92      0.90      0.91       100\n",
      "           3       0.96      0.95      0.95       100\n",
      "\n",
      "    accuracy                           0.95       400\n",
      "   macro avg       0.95      0.95      0.95       400\n",
      "weighted avg       0.95      0.95      0.95       400\n",
      "\n"
     ]
    }
   ],
   "source": [
    "acc_tuned_XGB = accuracy_score(y_test, y_XGB_tuned)\n",
    "\n",
    "print(classification_report(y_test, y_XGB_tuned))"
   ]
  },
  {
   "cell_type": "code",
   "execution_count": 586,
   "metadata": {},
   "outputs": [
    {
     "data": {
      "image/png": "[encoded data removed]",
      "text/plain": [
       "<Figure size 576x396 with 1 Axes>"
      ]
     },
     "metadata": {},
     "output_type": "display_data"
    }
   ],
   "source": [
    "cm_tuned_XGB = ConfusionMatrix(XGB_tuned, classes = [0,1,2,3])\n",
    "cm_tuned_XGB.fit(X_train, y_train)\n",
    "\n",
    "cm_tuned_XGB.score(X_test, y_test)\n",
    "plt.xlabel('Prediction')\n",
    "plt.ylabel('Actual')\n",
    "plt.title('Confusion Matrix XGB tuned  Test')\n",
    "plt.show()"
   ]
  },
  {
   "cell_type": "code",
   "execution_count": 596,
   "metadata": {},
   "outputs": [
    {
     "data": {
      "text/html": [
       "<div>\n",
       "<style scoped>\n",
       "    .dataframe tbody tr th:only-of-type {\n",
       "        vertical-align: middle;\n",
       "    }\n",
       "\n",
       "    .dataframe tbody tr th {\n",
       "        vertical-align: top;\n",
       "    }\n",
       "\n",
       "    .dataframe thead th {\n",
       "        text-align: right;\n",
       "    }\n",
       "</style>\n",
       "<table border=\"1\" class=\"dataframe\">\n",
       "  <thead>\n",
       "    <tr style=\"text-align: right;\">\n",
       "      <th></th>\n",
       "      <th>Training</th>\n",
       "      <th>Testing</th>\n",
       "    </tr>\n",
       "  </thead>\n",
       "  <tbody>\n",
       "    <tr>\n",
       "      <th>Logistic Regression Tuned</th>\n",
       "      <td>0.544375</td>\n",
       "      <td>0.5350</td>\n",
       "    </tr>\n",
       "    <tr>\n",
       "      <th>KNN Tuned</th>\n",
       "      <td>1.000000</td>\n",
       "      <td>0.9325</td>\n",
       "    </tr>\n",
       "    <tr>\n",
       "      <th>SVC Tuned</th>\n",
       "      <td>0.926875</td>\n",
       "      <td>0.9575</td>\n",
       "    </tr>\n",
       "    <tr>\n",
       "      <th>DT tuned</th>\n",
       "      <td>0.976875</td>\n",
       "      <td>0.8825</td>\n",
       "    </tr>\n",
       "    <tr>\n",
       "      <th>RF Tuned</th>\n",
       "      <td>0.995625</td>\n",
       "      <td>0.9450</td>\n",
       "    </tr>\n",
       "    <tr>\n",
       "      <th>XGB Tuned</th>\n",
       "      <td>1.000000</td>\n",
       "      <td>0.9500</td>\n",
       "    </tr>\n",
       "  </tbody>\n",
       "</table>\n",
       "</div>"
      ],
      "text/plain": [
       "                           Training  Testing\n",
       "Logistic Regression Tuned  0.544375   0.5350\n",
       "KNN Tuned                  1.000000   0.9325\n",
       "SVC Tuned                  0.926875   0.9575\n",
       "DT tuned                   0.976875   0.8825\n",
       "RF Tuned                   0.995625   0.9450\n",
       "XGB Tuned                  1.000000   0.9500"
      ]
     },
     "execution_count": 596,
     "metadata": {},
     "output_type": "execute_result"
    }
   ],
   "source": [
    "evaluation_matrix_tuned = {'Training': [logreg_tuned_train_base, KNN_tuned_train,SVC_tuned_train,DT_tuned_train, RF_tuned_train, XGB_tuned_train],\n",
    "                         'Testing':[acc_logreg_tuned_base, acc_KNN_tuned,acc_tuned_SVC,acc_tuned_DT, acc_tuned_RF, acc_tuned_XGB]}\n",
    "\n",
    "eva_tuned = pd.DataFrame(data = evaluation_matrix_tuned, index = ['Logistic Regression Tuned', 'KNN Tuned', 'SVC Tuned', 'DT tuned', 'RF Tuned', 'XGB Tuned'])\n",
    "eva_tuned\n",
    "\n",
    "# we can see that there's definitely an overfitting problem in this hyperparameter tuning a base model"
   ]
  },
  {
   "cell_type": "code",
   "execution_count": 598,
   "metadata": {},
   "outputs": [
    {
     "data": {
      "text/html": [
       "<div>\n",
       "<style scoped>\n",
       "    .dataframe tbody tr th:only-of-type {\n",
       "        vertical-align: middle;\n",
       "    }\n",
       "\n",
       "    .dataframe tbody tr th {\n",
       "        vertical-align: top;\n",
       "    }\n",
       "\n",
       "    .dataframe thead th {\n",
       "        text-align: right;\n",
       "    }\n",
       "</style>\n",
       "<table border=\"1\" class=\"dataframe\">\n",
       "  <thead>\n",
       "    <tr style=\"text-align: right;\">\n",
       "      <th></th>\n",
       "      <th>Training</th>\n",
       "      <th>Testing</th>\n",
       "    </tr>\n",
       "  </thead>\n",
       "  <tbody>\n",
       "    <tr>\n",
       "      <th>Logistic Regression Scaled Tuned</th>\n",
       "      <td>0.929375</td>\n",
       "      <td>0.9475</td>\n",
       "    </tr>\n",
       "    <tr>\n",
       "      <th>KNN Scaled Tuned</th>\n",
       "      <td>1.000000</td>\n",
       "      <td>0.9150</td>\n",
       "    </tr>\n",
       "    <tr>\n",
       "      <th>SVC Scaled Tuned</th>\n",
       "      <td>0.925625</td>\n",
       "      <td>0.9275</td>\n",
       "    </tr>\n",
       "    <tr>\n",
       "      <th>Logreg Scaled Poly Tuned</th>\n",
       "      <td>0.934375</td>\n",
       "      <td>0.9475</td>\n",
       "    </tr>\n",
       "  </tbody>\n",
       "</table>\n",
       "</div>"
      ],
      "text/plain": [
       "                                  Training  Testing\n",
       "Logistic Regression Scaled Tuned  0.929375   0.9475\n",
       "KNN Scaled Tuned                  1.000000   0.9150\n",
       "SVC Scaled Tuned                  0.925625   0.9275\n",
       "Logreg Scaled Poly Tuned          0.934375   0.9475"
      ]
     },
     "execution_count": 598,
     "metadata": {},
     "output_type": "execute_result"
    }
   ],
   "source": [
    "evaluation_matrix_featured_tuned = {'Training': [logreg_tuned_train, KNN_tuned_train_scaled,SVC_tuned_train_scaled,logreg_tuned_train_poly],\n",
    "                         'Testing':[acc_tuned_logreg, acc_KNN_tuned_scaled,acc_scaled_SVC,acc_logreg_tuned_poly]}\n",
    "\n",
    "eva_featured_tuned = pd.DataFrame(data = evaluation_matrix_featured_tuned, index = ['Logistic Regression Scaled Tuned', 'KNN Scaled Tuned', 'SVC Scaled Tuned', 'Logreg Scaled Poly Tuned'])\n",
    "eva_featured_tuned"
   ]
  },
  {
   "cell_type": "code",
   "execution_count": 601,
   "metadata": {},
   "outputs": [],
   "source": [
    "from IPython.core.display import display, HTML\n",
    "\n",
    "def display_side_by_side(dfs:list, captions:list):\n",
    "    \"\"\"Display tables side by side to save vertical space\n",
    "    Input:\n",
    "        dfs: list of pandas.DataFrame\n",
    "        captions: list of table captions\n",
    "    \"\"\"\n",
    "    output = \"\"\n",
    "    combined = dict(zip(captions, dfs))\n",
    "    for caption, df in combined.items():\n",
    "        output += df.style.set_table_attributes(\"style='display:inline'\").set_caption(caption)._repr_html_()\n",
    "        output += \"\\xa0\\xa0\\xa0\"\n",
    "    display(HTML(output))"
   ]
  },
  {
   "cell_type": "markdown",
   "metadata": {},
   "source": [
    "### Conclusion"
   ]
  },
  {
   "cell_type": "code",
   "execution_count": 607,
   "metadata": {},
   "outputs": [
    {
     "data": {
      "text/html": [
       "<style  type=\"text/css\" >\n",
       "</style><table id=\"T_0b51a7a7_1b49_11eb_a13b_e86f38544a42\" style='display:inline'><caption>Base Model</caption><thead>    <tr>        <th class=\"blank level0\" ></th>        <th class=\"col_heading level0 col0\" >Training</th>        <th class=\"col_heading level0 col1\" >Testing</th>    </tr></thead><tbody>\n",
       "                <tr>\n",
       "                        <th id=\"T_0b51a7a7_1b49_11eb_a13b_e86f38544a42level0_row0\" class=\"row_heading level0 row0\" >Logistic Regression</th>\n",
       "                        <td id=\"T_0b51a7a7_1b49_11eb_a13b_e86f38544a42row0_col0\" class=\"data row0 col0\" >0.544375</td>\n",
       "                        <td id=\"T_0b51a7a7_1b49_11eb_a13b_e86f38544a42row0_col1\" class=\"data row0 col1\" >0.535000</td>\n",
       "            </tr>\n",
       "            <tr>\n",
       "                        <th id=\"T_0b51a7a7_1b49_11eb_a13b_e86f38544a42level0_row1\" class=\"row_heading level0 row1\" >KNN</th>\n",
       "                        <td id=\"T_0b51a7a7_1b49_11eb_a13b_e86f38544a42row1_col0\" class=\"data row1 col0\" >0.938125</td>\n",
       "                        <td id=\"T_0b51a7a7_1b49_11eb_a13b_e86f38544a42row1_col1\" class=\"data row1 col1\" >0.925000</td>\n",
       "            </tr>\n",
       "            <tr>\n",
       "                        <th id=\"T_0b51a7a7_1b49_11eb_a13b_e86f38544a42level0_row2\" class=\"row_heading level0 row2\" >SVC</th>\n",
       "                        <td id=\"T_0b51a7a7_1b49_11eb_a13b_e86f38544a42row2_col0\" class=\"data row2 col0\" >0.927500</td>\n",
       "                        <td id=\"T_0b51a7a7_1b49_11eb_a13b_e86f38544a42row2_col1\" class=\"data row2 col1\" >0.940000</td>\n",
       "            </tr>\n",
       "            <tr>\n",
       "                        <th id=\"T_0b51a7a7_1b49_11eb_a13b_e86f38544a42level0_row3\" class=\"row_heading level0 row3\" >Decision Tree</th>\n",
       "                        <td id=\"T_0b51a7a7_1b49_11eb_a13b_e86f38544a42row3_col0\" class=\"data row3 col0\" >1.000000</td>\n",
       "                        <td id=\"T_0b51a7a7_1b49_11eb_a13b_e86f38544a42row3_col1\" class=\"data row3 col1\" >0.867500</td>\n",
       "            </tr>\n",
       "            <tr>\n",
       "                        <th id=\"T_0b51a7a7_1b49_11eb_a13b_e86f38544a42level0_row4\" class=\"row_heading level0 row4\" >Random Forest</th>\n",
       "                        <td id=\"T_0b51a7a7_1b49_11eb_a13b_e86f38544a42row4_col0\" class=\"data row4 col0\" >1.000000</td>\n",
       "                        <td id=\"T_0b51a7a7_1b49_11eb_a13b_e86f38544a42row4_col1\" class=\"data row4 col1\" >0.945000</td>\n",
       "            </tr>\n",
       "            <tr>\n",
       "                        <th id=\"T_0b51a7a7_1b49_11eb_a13b_e86f38544a42level0_row5\" class=\"row_heading level0 row5\" >Xtreme Gradient Boost</th>\n",
       "                        <td id=\"T_0b51a7a7_1b49_11eb_a13b_e86f38544a42row5_col0\" class=\"data row5 col0\" >1.000000</td>\n",
       "                        <td id=\"T_0b51a7a7_1b49_11eb_a13b_e86f38544a42row5_col1\" class=\"data row5 col1\" >0.952500</td>\n",
       "            </tr>\n",
       "    </tbody></table>   <style  type=\"text/css\" >\n",
       "</style><table id=\"T_0b51cea0_1b49_11eb_8417_e86f38544a42\" style='display:inline'><caption>Tuned Model</caption><thead>    <tr>        <th class=\"blank level0\" ></th>        <th class=\"col_heading level0 col0\" >Training</th>        <th class=\"col_heading level0 col1\" >Testing</th>    </tr></thead><tbody>\n",
       "                <tr>\n",
       "                        <th id=\"T_0b51cea0_1b49_11eb_8417_e86f38544a42level0_row0\" class=\"row_heading level0 row0\" >Logistic Regression Tuned</th>\n",
       "                        <td id=\"T_0b51cea0_1b49_11eb_8417_e86f38544a42row0_col0\" class=\"data row0 col0\" >0.544375</td>\n",
       "                        <td id=\"T_0b51cea0_1b49_11eb_8417_e86f38544a42row0_col1\" class=\"data row0 col1\" >0.535000</td>\n",
       "            </tr>\n",
       "            <tr>\n",
       "                        <th id=\"T_0b51cea0_1b49_11eb_8417_e86f38544a42level0_row1\" class=\"row_heading level0 row1\" >KNN Tuned</th>\n",
       "                        <td id=\"T_0b51cea0_1b49_11eb_8417_e86f38544a42row1_col0\" class=\"data row1 col0\" >1.000000</td>\n",
       "                        <td id=\"T_0b51cea0_1b49_11eb_8417_e86f38544a42row1_col1\" class=\"data row1 col1\" >0.932500</td>\n",
       "            </tr>\n",
       "            <tr>\n",
       "                        <th id=\"T_0b51cea0_1b49_11eb_8417_e86f38544a42level0_row2\" class=\"row_heading level0 row2\" >SVC Tuned</th>\n",
       "                        <td id=\"T_0b51cea0_1b49_11eb_8417_e86f38544a42row2_col0\" class=\"data row2 col0\" >0.926875</td>\n",
       "                        <td id=\"T_0b51cea0_1b49_11eb_8417_e86f38544a42row2_col1\" class=\"data row2 col1\" >0.957500</td>\n",
       "            </tr>\n",
       "            <tr>\n",
       "                        <th id=\"T_0b51cea0_1b49_11eb_8417_e86f38544a42level0_row3\" class=\"row_heading level0 row3\" >DT tuned</th>\n",
       "                        <td id=\"T_0b51cea0_1b49_11eb_8417_e86f38544a42row3_col0\" class=\"data row3 col0\" >0.976875</td>\n",
       "                        <td id=\"T_0b51cea0_1b49_11eb_8417_e86f38544a42row3_col1\" class=\"data row3 col1\" >0.882500</td>\n",
       "            </tr>\n",
       "            <tr>\n",
       "                        <th id=\"T_0b51cea0_1b49_11eb_8417_e86f38544a42level0_row4\" class=\"row_heading level0 row4\" >RF Tuned</th>\n",
       "                        <td id=\"T_0b51cea0_1b49_11eb_8417_e86f38544a42row4_col0\" class=\"data row4 col0\" >0.995625</td>\n",
       "                        <td id=\"T_0b51cea0_1b49_11eb_8417_e86f38544a42row4_col1\" class=\"data row4 col1\" >0.945000</td>\n",
       "            </tr>\n",
       "            <tr>\n",
       "                        <th id=\"T_0b51cea0_1b49_11eb_8417_e86f38544a42level0_row5\" class=\"row_heading level0 row5\" >XGB Tuned</th>\n",
       "                        <td id=\"T_0b51cea0_1b49_11eb_8417_e86f38544a42row5_col0\" class=\"data row5 col0\" >1.000000</td>\n",
       "                        <td id=\"T_0b51cea0_1b49_11eb_8417_e86f38544a42row5_col1\" class=\"data row5 col1\" >0.950000</td>\n",
       "            </tr>\n",
       "    </tbody></table>   "
      ],
      "text/plain": [
       "<IPython.core.display.HTML object>"
      ]
     },
     "metadata": {},
     "output_type": "display_data"
    }
   ],
   "source": [
    "display_side_by_side([eva_base, eva_tuned], ['Base Model', 'Tuned Model'])"
   ]
  },
  {
   "cell_type": "code",
   "execution_count": 608,
   "metadata": {},
   "outputs": [
    {
     "data": {
      "text/html": [
       "<style  type=\"text/css\" >\n",
       "</style><table id=\"T_18ee1b14_1b49_11eb_9f77_e86f38544a42\" style='display:inline'><caption>Base Model</caption><thead>    <tr>        <th class=\"blank level0\" ></th>        <th class=\"col_heading level0 col0\" >Training</th>        <th class=\"col_heading level0 col1\" >Testing</th>    </tr></thead><tbody>\n",
       "                <tr>\n",
       "                        <th id=\"T_18ee1b14_1b49_11eb_9f77_e86f38544a42level0_row0\" class=\"row_heading level0 row0\" >Logistic Regression Scaled</th>\n",
       "                        <td id=\"T_18ee1b14_1b49_11eb_9f77_e86f38544a42row0_col0\" class=\"data row0 col0\" >0.909375</td>\n",
       "                        <td id=\"T_18ee1b14_1b49_11eb_9f77_e86f38544a42row0_col1\" class=\"data row0 col1\" >0.935000</td>\n",
       "            </tr>\n",
       "            <tr>\n",
       "                        <th id=\"T_18ee1b14_1b49_11eb_9f77_e86f38544a42level0_row1\" class=\"row_heading level0 row1\" >KNN Scaled</th>\n",
       "                        <td id=\"T_18ee1b14_1b49_11eb_9f77_e86f38544a42row1_col0\" class=\"data row1 col0\" >0.891875</td>\n",
       "                        <td id=\"T_18ee1b14_1b49_11eb_9f77_e86f38544a42row1_col1\" class=\"data row1 col1\" >0.847500</td>\n",
       "            </tr>\n",
       "            <tr>\n",
       "                        <th id=\"T_18ee1b14_1b49_11eb_9f77_e86f38544a42level0_row2\" class=\"row_heading level0 row2\" >SVC Scaled</th>\n",
       "                        <td id=\"T_18ee1b14_1b49_11eb_9f77_e86f38544a42row2_col0\" class=\"data row2 col0\" >0.931250</td>\n",
       "                        <td id=\"T_18ee1b14_1b49_11eb_9f77_e86f38544a42row2_col1\" class=\"data row2 col1\" >0.927500</td>\n",
       "            </tr>\n",
       "            <tr>\n",
       "                        <th id=\"T_18ee1b14_1b49_11eb_9f77_e86f38544a42level0_row3\" class=\"row_heading level0 row3\" >Linreg Scaled Poly</th>\n",
       "                        <td id=\"T_18ee1b14_1b49_11eb_9f77_e86f38544a42row3_col0\" class=\"data row3 col0\" >0.927500</td>\n",
       "                        <td id=\"T_18ee1b14_1b49_11eb_9f77_e86f38544a42row3_col1\" class=\"data row3 col1\" >0.950000</td>\n",
       "            </tr>\n",
       "    </tbody></table>   <style  type=\"text/css\" >\n",
       "</style><table id=\"T_18ee916b_1b49_11eb_913c_e86f38544a42\" style='display:inline'><caption>Tuned Model</caption><thead>    <tr>        <th class=\"blank level0\" ></th>        <th class=\"col_heading level0 col0\" >Training</th>        <th class=\"col_heading level0 col1\" >Testing</th>    </tr></thead><tbody>\n",
       "                <tr>\n",
       "                        <th id=\"T_18ee916b_1b49_11eb_913c_e86f38544a42level0_row0\" class=\"row_heading level0 row0\" >Logistic Regression Scaled Tuned</th>\n",
       "                        <td id=\"T_18ee916b_1b49_11eb_913c_e86f38544a42row0_col0\" class=\"data row0 col0\" >0.929375</td>\n",
       "                        <td id=\"T_18ee916b_1b49_11eb_913c_e86f38544a42row0_col1\" class=\"data row0 col1\" >0.947500</td>\n",
       "            </tr>\n",
       "            <tr>\n",
       "                        <th id=\"T_18ee916b_1b49_11eb_913c_e86f38544a42level0_row1\" class=\"row_heading level0 row1\" >KNN Scaled Tuned</th>\n",
       "                        <td id=\"T_18ee916b_1b49_11eb_913c_e86f38544a42row1_col0\" class=\"data row1 col0\" >1.000000</td>\n",
       "                        <td id=\"T_18ee916b_1b49_11eb_913c_e86f38544a42row1_col1\" class=\"data row1 col1\" >0.915000</td>\n",
       "            </tr>\n",
       "            <tr>\n",
       "                        <th id=\"T_18ee916b_1b49_11eb_913c_e86f38544a42level0_row2\" class=\"row_heading level0 row2\" >SVC Scaled Tuned</th>\n",
       "                        <td id=\"T_18ee916b_1b49_11eb_913c_e86f38544a42row2_col0\" class=\"data row2 col0\" >0.925625</td>\n",
       "                        <td id=\"T_18ee916b_1b49_11eb_913c_e86f38544a42row2_col1\" class=\"data row2 col1\" >0.927500</td>\n",
       "            </tr>\n",
       "            <tr>\n",
       "                        <th id=\"T_18ee916b_1b49_11eb_913c_e86f38544a42level0_row3\" class=\"row_heading level0 row3\" >Logreg Scaled Poly Tuned</th>\n",
       "                        <td id=\"T_18ee916b_1b49_11eb_913c_e86f38544a42row3_col0\" class=\"data row3 col0\" >0.934375</td>\n",
       "                        <td id=\"T_18ee916b_1b49_11eb_913c_e86f38544a42row3_col1\" class=\"data row3 col1\" >0.947500</td>\n",
       "            </tr>\n",
       "    </tbody></table>   "
      ],
      "text/plain": [
       "<IPython.core.display.HTML object>"
      ]
     },
     "metadata": {},
     "output_type": "display_data"
    }
   ],
   "source": [
    "display_side_by_side([eva_featured, eva_featured_tuned], ['Base Model', 'Tuned Model'])"
   ]
  },
  {
   "cell_type": "markdown",
   "metadata": {},
   "source": [
    "**Conclusion**\n",
    "\n",
    "- We can see that from all the evaluation matrix for this phone classfication, we see that, **SVC after  hyperparameter tuning without scalling has the best accuracy** when it comes to predicting phone price range based on certain features.\n",
    "\n",
    "\n",
    "- We also see that there're some overfitting model, we can see it by looking the the significance difference training score and testing score \n",
    "\n",
    "**Recommendation & Improvement**\n",
    "\n",
    "1. Different features selection for certain models that is overfitting, by looking at the 4 tables above we can clearly see that there's overfitting problem in some of our models, for future references please use a simpler feature selection for overfitted model\n",
    "\n",
    "\n",
    "2. Reliability of the data, this dataset has a lot of randomness to it, like having **pixel height that's lower than 240px, 0 width for screen and etc**, doing a lot of cleanining replacing random values of the data might have an effect in our model\n",
    "\n",
    "\n",
    "3. Using Different kind of scaler, in this modeling i use a minmax scaller to scale the X train and X test, fot future references using different kind of scaller might have an effect to the model"
   ]
  },
  {
   "cell_type": "code",
   "execution_count": null,
   "metadata": {},
   "outputs": [],
   "source": []
  }
 ],
 "metadata": {
  "kernelspec": {
   "display_name": "Python 3",
   "language": "python",
   "name": "python3"
  },
  "language_info": {
   "codemirror_mode": {
    "name": "ipython",
    "version": 3
   },
   "file_extension": ".py",
   "mimetype": "text/x-python",
   "name": "python",
   "nbconvert_exporter": "python",
   "pygments_lexer": "ipython3",
   "version": "3.8.3"
  }
 },
 "nbformat": 4,
 "nbformat_minor": 4
}
